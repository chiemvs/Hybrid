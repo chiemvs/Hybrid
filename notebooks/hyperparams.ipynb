{
 "cells": [
  {
   "cell_type": "markdown",
   "metadata": {},
   "source": [
    "### Having a look at the SHERPA results\n",
    "Dashboard itself can unfortunately not load the results"
   ]
  },
  {
   "cell_type": "code",
   "execution_count": 2,
   "metadata": {},
   "outputs": [],
   "source": [
    "import pandas as pd\n",
    "import numpy as np\n",
    "import matplotlib.pyplot as plt"
   ]
  },
  {
   "cell_type": "code",
   "execution_count": 3,
   "metadata": {},
   "outputs": [],
   "source": [
    "jmeasure = '/nobackup/users/straaten/hyperparams/tg-ex-q0.75-21D_ge5D_sep12-15_jmeasure-dyn/results.csv'"
   ]
  },
  {
   "cell_type": "markdown",
   "metadata": {},
   "source": [
    "#### Benchmarks (old)\n",
    "| Target       | leadtime  | RPS raw   | RPS trend  |\n",
    "|--------------|-----------|-----------|------------|\n",
    "| 31D > 0.75   | 12-15     | 0.354     | 0.315      |\n",
    "| 21D > 7D     | 12-15     | 0.424     | 0.398      |\n",
    "| 21D > 7D     | 19-21     | 0.441     | 0.403      |\n",
    "| 21D > 7D 1fold | 19-21 | 0.409 | 0.415 |"
   ]
  },
  {
   "cell_type": "code",
   "execution_count": 4,
   "metadata": {},
   "outputs": [],
   "source": [
    "test = pd.read_csv(jmeasure)\n",
    "#completed = test.loc[test['Status'] == 'COMPLETED',:] # Completed is actually returning the lowest value seen in the iterations. We want the mean\n",
    "final = test.loc[np.logical_and(test['Iteration'] == 7,test['Status'] == 'INTERMEDIATE'),:]"
   ]
  },
  {
   "cell_type": "code",
   "execution_count": 20,
   "metadata": {},
   "outputs": [
    {
     "data": {
      "text/html": [
       "<div>\n",
       "<style scoped>\n",
       "    .dataframe tbody tr th:only-of-type {\n",
       "        vertical-align: middle;\n",
       "    }\n",
       "\n",
       "    .dataframe tbody tr th {\n",
       "        vertical-align: top;\n",
       "    }\n",
       "\n",
       "    .dataframe thead th {\n",
       "        text-align: right;\n",
       "    }\n",
       "</style>\n",
       "<table border=\"1\" class=\"dataframe\">\n",
       "  <thead>\n",
       "    <tr style=\"text-align: right;\">\n",
       "      <th></th>\n",
       "      <th>Trial-ID</th>\n",
       "      <th>Status</th>\n",
       "      <th>Iteration</th>\n",
       "      <th>batch_size</th>\n",
       "      <th>earlystop_patience</th>\n",
       "      <th>lr</th>\n",
       "      <th>n_hidden_layers</th>\n",
       "      <th>n_hiddenlayer_nodes</th>\n",
       "      <th>Objective</th>\n",
       "      <th>earliest_stop</th>\n",
       "      <th>latest_stop</th>\n",
       "    </tr>\n",
       "  </thead>\n",
       "  <tbody>\n",
       "    <tr>\n",
       "      <th>205</th>\n",
       "      <td>23</td>\n",
       "      <td>INTERMEDIATE</td>\n",
       "      <td>7</td>\n",
       "      <td>16</td>\n",
       "      <td>9</td>\n",
       "      <td>0.001128</td>\n",
       "      <td>1</td>\n",
       "      <td>4</td>\n",
       "      <td>0.459630</td>\n",
       "      <td>11</td>\n",
       "      <td>20</td>\n",
       "    </tr>\n",
       "    <tr>\n",
       "      <th>214</th>\n",
       "      <td>24</td>\n",
       "      <td>INTERMEDIATE</td>\n",
       "      <td>7</td>\n",
       "      <td>32</td>\n",
       "      <td>10</td>\n",
       "      <td>0.000567</td>\n",
       "      <td>2</td>\n",
       "      <td>6</td>\n",
       "      <td>0.459777</td>\n",
       "      <td>12</td>\n",
       "      <td>23</td>\n",
       "    </tr>\n",
       "    <tr>\n",
       "      <th>313</th>\n",
       "      <td>35</td>\n",
       "      <td>INTERMEDIATE</td>\n",
       "      <td>7</td>\n",
       "      <td>64</td>\n",
       "      <td>7</td>\n",
       "      <td>0.001614</td>\n",
       "      <td>1</td>\n",
       "      <td>4</td>\n",
       "      <td>0.458860</td>\n",
       "      <td>9</td>\n",
       "      <td>18</td>\n",
       "    </tr>\n",
       "    <tr>\n",
       "      <th>322</th>\n",
       "      <td>36</td>\n",
       "      <td>INTERMEDIATE</td>\n",
       "      <td>7</td>\n",
       "      <td>64</td>\n",
       "      <td>6</td>\n",
       "      <td>0.001680</td>\n",
       "      <td>1</td>\n",
       "      <td>5</td>\n",
       "      <td>0.457847</td>\n",
       "      <td>8</td>\n",
       "      <td>15</td>\n",
       "    </tr>\n",
       "    <tr>\n",
       "      <th>376</th>\n",
       "      <td>42</td>\n",
       "      <td>INTERMEDIATE</td>\n",
       "      <td>7</td>\n",
       "      <td>64</td>\n",
       "      <td>9</td>\n",
       "      <td>0.001549</td>\n",
       "      <td>2</td>\n",
       "      <td>2</td>\n",
       "      <td>0.456791</td>\n",
       "      <td>14</td>\n",
       "      <td>23</td>\n",
       "    </tr>\n",
       "    <tr>\n",
       "      <th>403</th>\n",
       "      <td>45</td>\n",
       "      <td>INTERMEDIATE</td>\n",
       "      <td>7</td>\n",
       "      <td>16</td>\n",
       "      <td>10</td>\n",
       "      <td>0.000731</td>\n",
       "      <td>1</td>\n",
       "      <td>4</td>\n",
       "      <td>0.459461</td>\n",
       "      <td>15</td>\n",
       "      <td>29</td>\n",
       "    </tr>\n",
       "    <tr>\n",
       "      <th>565</th>\n",
       "      <td>63</td>\n",
       "      <td>INTERMEDIATE</td>\n",
       "      <td>7</td>\n",
       "      <td>32</td>\n",
       "      <td>5</td>\n",
       "      <td>0.001232</td>\n",
       "      <td>1</td>\n",
       "      <td>6</td>\n",
       "      <td>0.458802</td>\n",
       "      <td>7</td>\n",
       "      <td>11</td>\n",
       "    </tr>\n",
       "    <tr>\n",
       "      <th>664</th>\n",
       "      <td>74</td>\n",
       "      <td>INTERMEDIATE</td>\n",
       "      <td>7</td>\n",
       "      <td>32</td>\n",
       "      <td>5</td>\n",
       "      <td>0.001222</td>\n",
       "      <td>2</td>\n",
       "      <td>5</td>\n",
       "      <td>0.458343</td>\n",
       "      <td>7</td>\n",
       "      <td>9</td>\n",
       "    </tr>\n",
       "    <tr>\n",
       "      <th>808</th>\n",
       "      <td>90</td>\n",
       "      <td>INTERMEDIATE</td>\n",
       "      <td>7</td>\n",
       "      <td>64</td>\n",
       "      <td>7</td>\n",
       "      <td>0.001141</td>\n",
       "      <td>1</td>\n",
       "      <td>5</td>\n",
       "      <td>0.459220</td>\n",
       "      <td>10</td>\n",
       "      <td>24</td>\n",
       "    </tr>\n",
       "    <tr>\n",
       "      <th>1006</th>\n",
       "      <td>112</td>\n",
       "      <td>INTERMEDIATE</td>\n",
       "      <td>7</td>\n",
       "      <td>16</td>\n",
       "      <td>10</td>\n",
       "      <td>0.000915</td>\n",
       "      <td>1</td>\n",
       "      <td>5</td>\n",
       "      <td>0.459874</td>\n",
       "      <td>13</td>\n",
       "      <td>18</td>\n",
       "    </tr>\n",
       "    <tr>\n",
       "      <th>1123</th>\n",
       "      <td>125</td>\n",
       "      <td>INTERMEDIATE</td>\n",
       "      <td>7</td>\n",
       "      <td>16</td>\n",
       "      <td>3</td>\n",
       "      <td>0.001701</td>\n",
       "      <td>2</td>\n",
       "      <td>5</td>\n",
       "      <td>0.456332</td>\n",
       "      <td>4</td>\n",
       "      <td>7</td>\n",
       "    </tr>\n",
       "    <tr>\n",
       "      <th>1294</th>\n",
       "      <td>144</td>\n",
       "      <td>INTERMEDIATE</td>\n",
       "      <td>7</td>\n",
       "      <td>16</td>\n",
       "      <td>9</td>\n",
       "      <td>0.001653</td>\n",
       "      <td>1</td>\n",
       "      <td>2</td>\n",
       "      <td>0.456989</td>\n",
       "      <td>11</td>\n",
       "      <td>24</td>\n",
       "    </tr>\n",
       "    <tr>\n",
       "      <th>1312</th>\n",
       "      <td>146</td>\n",
       "      <td>INTERMEDIATE</td>\n",
       "      <td>7</td>\n",
       "      <td>32</td>\n",
       "      <td>9</td>\n",
       "      <td>0.001860</td>\n",
       "      <td>1</td>\n",
       "      <td>6</td>\n",
       "      <td>0.459271</td>\n",
       "      <td>11</td>\n",
       "      <td>15</td>\n",
       "    </tr>\n",
       "    <tr>\n",
       "      <th>1528</th>\n",
       "      <td>170</td>\n",
       "      <td>INTERMEDIATE</td>\n",
       "      <td>7</td>\n",
       "      <td>64</td>\n",
       "      <td>5</td>\n",
       "      <td>0.001982</td>\n",
       "      <td>1</td>\n",
       "      <td>2</td>\n",
       "      <td>0.459885</td>\n",
       "      <td>7</td>\n",
       "      <td>14</td>\n",
       "    </tr>\n",
       "    <tr>\n",
       "      <th>1672</th>\n",
       "      <td>186</td>\n",
       "      <td>INTERMEDIATE</td>\n",
       "      <td>7</td>\n",
       "      <td>32</td>\n",
       "      <td>10</td>\n",
       "      <td>0.001134</td>\n",
       "      <td>1</td>\n",
       "      <td>6</td>\n",
       "      <td>0.456638</td>\n",
       "      <td>12</td>\n",
       "      <td>20</td>\n",
       "    </tr>\n",
       "    <tr>\n",
       "      <th>1789</th>\n",
       "      <td>199</td>\n",
       "      <td>INTERMEDIATE</td>\n",
       "      <td>7</td>\n",
       "      <td>64</td>\n",
       "      <td>6</td>\n",
       "      <td>0.001891</td>\n",
       "      <td>2</td>\n",
       "      <td>3</td>\n",
       "      <td>0.459510</td>\n",
       "      <td>9</td>\n",
       "      <td>25</td>\n",
       "    </tr>\n",
       "  </tbody>\n",
       "</table>\n",
       "</div>"
      ],
      "text/plain": [
       "      Trial-ID        Status  Iteration  batch_size  earlystop_patience  \\\n",
       "205         23  INTERMEDIATE          7          16                   9   \n",
       "214         24  INTERMEDIATE          7          32                  10   \n",
       "313         35  INTERMEDIATE          7          64                   7   \n",
       "322         36  INTERMEDIATE          7          64                   6   \n",
       "376         42  INTERMEDIATE          7          64                   9   \n",
       "403         45  INTERMEDIATE          7          16                  10   \n",
       "565         63  INTERMEDIATE          7          32                   5   \n",
       "664         74  INTERMEDIATE          7          32                   5   \n",
       "808         90  INTERMEDIATE          7          64                   7   \n",
       "1006       112  INTERMEDIATE          7          16                  10   \n",
       "1123       125  INTERMEDIATE          7          16                   3   \n",
       "1294       144  INTERMEDIATE          7          16                   9   \n",
       "1312       146  INTERMEDIATE          7          32                   9   \n",
       "1528       170  INTERMEDIATE          7          64                   5   \n",
       "1672       186  INTERMEDIATE          7          32                  10   \n",
       "1789       199  INTERMEDIATE          7          64                   6   \n",
       "\n",
       "            lr  n_hidden_layers  n_hiddenlayer_nodes  Objective  \\\n",
       "205   0.001128                1                    4   0.459630   \n",
       "214   0.000567                2                    6   0.459777   \n",
       "313   0.001614                1                    4   0.458860   \n",
       "322   0.001680                1                    5   0.457847   \n",
       "376   0.001549                2                    2   0.456791   \n",
       "403   0.000731                1                    4   0.459461   \n",
       "565   0.001232                1                    6   0.458802   \n",
       "664   0.001222                2                    5   0.458343   \n",
       "808   0.001141                1                    5   0.459220   \n",
       "1006  0.000915                1                    5   0.459874   \n",
       "1123  0.001701                2                    5   0.456332   \n",
       "1294  0.001653                1                    2   0.456989   \n",
       "1312  0.001860                1                    6   0.459271   \n",
       "1528  0.001982                1                    2   0.459885   \n",
       "1672  0.001134                1                    6   0.456638   \n",
       "1789  0.001891                2                    3   0.459510   \n",
       "\n",
       "      earliest_stop  latest_stop  \n",
       "205              11           20  \n",
       "214              12           23  \n",
       "313               9           18  \n",
       "322               8           15  \n",
       "376              14           23  \n",
       "403              15           29  \n",
       "565               7           11  \n",
       "664               7            9  \n",
       "808              10           24  \n",
       "1006             13           18  \n",
       "1123              4            7  \n",
       "1294             11           24  \n",
       "1312             11           15  \n",
       "1528              7           14  \n",
       "1672             12           20  \n",
       "1789              9           25  "
      ]
     },
     "execution_count": 20,
     "metadata": {},
     "output_type": "execute_result"
    }
   ],
   "source": [
    "final.iloc[final['Objective'].values < 0.46,:]"
   ]
  },
  {
   "cell_type": "code",
   "execution_count": 21,
   "metadata": {},
   "outputs": [
    {
     "name": "stderr",
     "output_type": "stream",
     "text": [
      "/tmp/ipykernel_2416258/773695533.py:1: FutureWarning: Dropping of nuisance columns in DataFrame reductions (with 'numeric_only=None') is deprecated; in a future version this will raise TypeError.  Select only valid columns before calling the reduction.\n",
      "  final.iloc[final['Objective'].values < 0.46,:].median(axis = 0)\n"
     ]
    },
    {
     "data": {
      "text/plain": [
       "Trial-ID               82.00000\n",
       "Iteration               7.00000\n",
       "batch_size             32.00000\n",
       "earlystop_patience      8.00000\n",
       "lr                      0.00139\n",
       "n_hidden_layers         1.00000\n",
       "n_hiddenlayer_nodes     5.00000\n",
       "Objective               0.45904\n",
       "earliest_stop          10.50000\n",
       "latest_stop            19.00000\n",
       "dtype: float64"
      ]
     },
     "execution_count": 21,
     "metadata": {},
     "output_type": "execute_result"
    }
   ],
   "source": [
    "final.iloc[final['Objective'].values < 0.46,:].median(axis = 0)"
   ]
  },
  {
   "cell_type": "code",
   "execution_count": 9,
   "metadata": {},
   "outputs": [
    {
     "data": {
      "text/plain": [
       "<matplotlib.collections.PathCollection at 0x7ff5fb9f1850>"
      ]
     },
     "execution_count": 9,
     "metadata": {},
     "output_type": "execute_result"
    },
    {
     "data": {
      "image/png": "[encoded data removed]",
      "text/plain": [
       "<Figure size 432x288 with 1 Axes>"
      ]
     },
     "metadata": {
      "needs_background": "light"
     },
     "output_type": "display_data"
    }
   ],
   "source": [
    "plt.scatter(final['lr'], final['Objective']) # 0.0014"
   ]
  },
  {
   "cell_type": "code",
   "execution_count": 10,
   "metadata": {},
   "outputs": [
    {
     "data": {
      "text/plain": [
       "<matplotlib.collections.PathCollection at 0x7ff5f388bc10>"
      ]
     },
     "execution_count": 10,
     "metadata": {},
     "output_type": "execute_result"
    },
    {
     "data": {
      "image/png": "[encoded data removed]",
      "text/plain": [
       "<Figure size 432x288 with 1 Axes>"
      ]
     },
     "metadata": {
      "needs_background": "light"
     },
     "output_type": "display_data"
    }
   ],
   "source": [
    "plt.scatter(final['earlystop_patience'], final['Objective']) # 7"
   ]
  },
  {
   "cell_type": "code",
   "execution_count": 16,
   "metadata": {},
   "outputs": [
    {
     "data": {
      "text/plain": [
       "<matplotlib.collections.PathCollection at 0x7ff5f35427f0>"
      ]
     },
     "execution_count": 16,
     "metadata": {},
     "output_type": "execute_result"
    },
    {
     "data": {
      "image/png": "[encoded data removed]",
      "text/plain": [
       "<Figure size 432x288 with 1 Axes>"
      ]
     },
     "metadata": {
      "needs_background": "light"
     },
     "output_type": "display_data"
    }
   ],
   "source": [
    "plt.scatter(final['batch_size'], final['Objective']) # 32"
   ]
  },
  {
   "cell_type": "code",
   "execution_count": 15,
   "metadata": {
    "scrolled": false
   },
   "outputs": [
    {
     "data": {
      "text/plain": [
       "<matplotlib.collections.PathCollection at 0x7ff5f3558940>"
      ]
     },
     "execution_count": 15,
     "metadata": {},
     "output_type": "execute_result"
    },
    {
     "data": {
      "image/png": "[encoded data removed]",
      "text/plain": [
       "<Figure size 432x288 with 1 Axes>"
      ]
     },
     "metadata": {
      "needs_background": "light"
     },
     "output_type": "display_data"
    }
   ],
   "source": [
    "plt.scatter(final['n_hidden_layers'], final['Objective']) # 1"
   ]
  },
  {
   "cell_type": "code",
   "execution_count": 22,
   "metadata": {},
   "outputs": [
    {
     "data": {
      "text/plain": [
       "<matplotlib.collections.PathCollection at 0x7ff5f3466b50>"
      ]
     },
     "execution_count": 22,
     "metadata": {},
     "output_type": "execute_result"
    },
    {
     "data": {
      "image/png": "[encoded data removed]",
      "text/plain": [
       "<Figure size 432x288 with 1 Axes>"
      ]
     },
     "metadata": {
      "needs_background": "light"
     },
     "output_type": "display_data"
    }
   ],
   "source": [
    "plt.scatter(final['n_hiddenlayer_nodes'], final['Objective'])"
   ]
  },
  {
   "cell_type": "code",
   "execution_count": null,
   "metadata": {},
   "outputs": [],
   "source": []
  }
 ],
 "metadata": {
  "kernelspec": {
   "display_name": "DLVENV",
   "language": "python",
   "name": "dlvenv"
  },
  "language_info": {
   "codemirror_mode": {
    "name": "ipython",
    "version": 3
   },
   "file_extension": ".py",
   "mimetype": "text/x-python",
   "name": "python",
   "nbconvert_exporter": "python",
   "pygments_lexer": "ipython3",
   "version": "3.9.7"
  }
 },
 "nbformat": 4,
 "nbformat_minor": 4
}
