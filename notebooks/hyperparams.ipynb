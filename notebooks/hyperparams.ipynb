{
 "cells": [
  {
   "cell_type": "markdown",
   "metadata": {},
   "source": [
    "### Having a look at the SHERPA results\n",
    "Dashboard itself can unfortunately not load the results"
   ]
  },
  {
   "cell_type": "code",
   "execution_count": 4,
   "metadata": {},
   "outputs": [],
   "source": [
    "import pandas as pd\n",
    "import numpy as np\n",
    "import matplotlib.pyplot as plt"
   ]
  },
  {
   "cell_type": "code",
   "execution_count": 6,
   "metadata": {},
   "outputs": [],
   "source": [
    "result31 = '/nobackup/users/straaten/predsets/preselected/tg-anom_JJA_45r1_31D-roll-mean_sep12-15/results.csv'\n",
    "result21_short = '/nobackup/users/straaten/predsets/preselected/tg-ex-q0.75-21D_ge7D_sep12-15/results.csv'\n",
    "result21_long = '/nobackup/users/straaten/predsets/preselected/tg-ex-q0.75-21D_ge7D_sep19-21/results.csv'"
   ]
  },
  {
   "cell_type": "markdown",
   "metadata": {},
   "source": [
    "#### Benchmarks\n",
    "| Target       | leadtime  | RPS raw   | RPS trend  |\n",
    "|--------------|-----------|-----------|------------|\n",
    "| 31D > 0.75   | 12-15     | 0.354     | 0.315      |\n",
    "| 21D > 7D     | 12-15     | 0.424     | 0.398      |\n",
    "| 21D > 7D     | 19-21     | 0.441     | 0.403      |"
   ]
  },
  {
   "cell_type": "code",
   "execution_count": 46,
   "metadata": {},
   "outputs": [],
   "source": [
    "test = pd.read_csv(result21_short)\n",
    "#completed = test.loc[test['Status'] == 'COMPLETED',:] # Completed is actually returning the lowest value seen in the iterations. We want the mean\n",
    "final = test.loc[np.logical_and(test['Iteration'] == 7,test['Status'] == 'INTERMEDIATE'),:]"
   ]
  },
  {
   "cell_type": "code",
   "execution_count": 38,
   "metadata": {},
   "outputs": [
    {
     "data": {
      "text/plain": [
       "Trial-ID                         81\n",
       "Status                 INTERMEDIATE\n",
       "Iteration                         7\n",
       "batch_size                       64\n",
       "earlystop_patience               13\n",
       "lr                         0.001943\n",
       "n_hidden_layers                   2\n",
       "n_hiddenlayer_nodes               8\n",
       "Objective                  0.287742\n",
       "earliest_stop                    14\n",
       "latest_stop                      31\n",
       "Name: 727, dtype: object"
      ]
     },
     "execution_count": 38,
     "metadata": {},
     "output_type": "execute_result"
    }
   ],
   "source": [
    "final.iloc[final['Objective'].argmin(),:]"
   ]
  },
  {
   "cell_type": "code",
   "execution_count": 41,
   "metadata": {},
   "outputs": [
    {
     "data": {
      "text/plain": [
       "Trial-ID                         84\n",
       "Status                 INTERMEDIATE\n",
       "Iteration                         7\n",
       "batch_size                       16\n",
       "earlystop_patience               18\n",
       "lr                         0.001676\n",
       "n_hidden_layers                   1\n",
       "n_hiddenlayer_nodes               5\n",
       "Objective                  0.325286\n",
       "earliest_stop                    21\n",
       "latest_stop                      43\n",
       "Name: 754, dtype: object"
      ]
     },
     "execution_count": 41,
     "metadata": {},
     "output_type": "execute_result"
    }
   ],
   "source": [
    "final.iloc[final['Objective'].argmin(),:]"
   ]
  },
  {
   "cell_type": "code",
   "execution_count": 28,
   "metadata": {},
   "outputs": [
    {
     "data": {
      "text/plain": [
       "Trial-ID                         70\n",
       "Status                 INTERMEDIATE\n",
       "Iteration                         7\n",
       "batch_size                       64\n",
       "earlystop_patience               13\n",
       "lr                         0.001027\n",
       "n_hidden_layers                   2\n",
       "n_hiddenlayer_nodes               5\n",
       "Objective                  0.329728\n",
       "earliest_stop                    14\n",
       "latest_stop                      68\n",
       "Name: 628, dtype: object"
      ]
     },
     "execution_count": 28,
     "metadata": {},
     "output_type": "execute_result"
    }
   ],
   "source": [
    "final.iloc[final['Objective'].argmin(),:]"
   ]
  },
  {
   "cell_type": "code",
   "execution_count": 33,
   "metadata": {},
   "outputs": [
    {
     "data": {
      "text/plain": [
       "<matplotlib.collections.PathCollection at 0x7f901ee9c280>"
      ]
     },
     "execution_count": 33,
     "metadata": {},
     "output_type": "execute_result"
    },
    {
     "data": {
      "image/png": "[encoded data removed]",
      "text/plain": [
       "<Figure size 432x288 with 1 Axes>"
      ]
     },
     "metadata": {
      "needs_background": "light"
     },
     "output_type": "display_data"
    }
   ],
   "source": [
    "plt.scatter(final['lr'], final['Objective'])"
   ]
  },
  {
   "cell_type": "code",
   "execution_count": 34,
   "metadata": {},
   "outputs": [
    {
     "data": {
      "text/plain": [
       "<matplotlib.collections.PathCollection at 0x7f901f97ed60>"
      ]
     },
     "execution_count": 34,
     "metadata": {},
     "output_type": "execute_result"
    },
    {
     "data": {
      "image/png": "[encoded data removed]",
      "text/plain": [
       "<Figure size 432x288 with 1 Axes>"
      ]
     },
     "metadata": {
      "needs_background": "light"
     },
     "output_type": "display_data"
    }
   ],
   "source": [
    "plt.scatter(final['earlystop_patience'], final['Objective'])"
   ]
  },
  {
   "cell_type": "code",
   "execution_count": 43,
   "metadata": {
    "scrolled": false
   },
   "outputs": [
    {
     "data": {
      "text/plain": [
       "<matplotlib.collections.PathCollection at 0x7f9016c4fb20>"
      ]
     },
     "execution_count": 43,
     "metadata": {},
     "output_type": "execute_result"
    },
    {
     "data": {
      "image/png": "[encoded data removed]",
      "text/plain": [
       "<Figure size 432x288 with 1 Axes>"
      ]
     },
     "metadata": {
      "needs_background": "light"
     },
     "output_type": "display_data"
    }
   ],
   "source": [
    "plt.scatter(final['lr'], final['Objective'])"
   ]
  },
  {
   "cell_type": "code",
   "execution_count": null,
   "metadata": {},
   "outputs": [],
   "source": []
  }
 ],
 "metadata": {
  "kernelspec": {
   "display_name": "DLVENV",
   "language": "python",
   "name": "dlvenv"
  },
  "language_info": {
   "codemirror_mode": {
    "name": "ipython",
    "version": 3
   },
   "file_extension": ".py",
   "mimetype": "text/x-python",
   "name": "python",
   "nbconvert_exporter": "python",
   "pygments_lexer": "ipython3",
   "version": "3.9.6"
  }
 },
 "nbformat": 4,
 "nbformat_minor": 4
}
