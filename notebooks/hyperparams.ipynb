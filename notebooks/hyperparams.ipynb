{
 "cells": [
  {
   "cell_type": "markdown",
   "metadata": {},
   "source": [
    "### Having a look at the SHERPA results\n",
    "Dashboard itself can unfortunately not load the results"
   ]
  },
  {
   "cell_type": "code",
   "execution_count": 27,
   "metadata": {},
   "outputs": [],
   "source": [
    "import pandas as pd\n",
    "import numpy as np\n",
    "import matplotlib.pyplot as plt\n",
    "from pathlib import Path"
   ]
  },
  {
   "cell_type": "code",
   "execution_count": 62,
   "metadata": {},
   "outputs": [],
   "source": [
    "def browse_load_dir(basepath: Path, nbest: int):\n",
    "    results = {}\n",
    "    result_paths = basepath.glob('tg*/results.csv')\n",
    "    for path in result_paths:\n",
    "        full = pd.read_csv(path,header = 0)\n",
    "        parts = path.parts[-2].split('_')\n",
    "        try:\n",
    "            extremity = parts[-5]\n",
    "            timeagg = parts[-6]\n",
    "            results.update({(timeagg,extremity):get_best_trials(full, nbest = nbest)})\n",
    "        except IndexError:\n",
    "            results.update({('',''):get_best_trials(full, nbest = nbest)})\n",
    "    results = pd.concat(results, axis = 0)\n",
    "    results.index.names = ['timeagg','extremity','rownr'] # Last level is a bit redundant\n",
    "    return results\n",
    "\n",
    "def get_best_trials(sherpa_results: pd.DataFrame, nbest:int = 11):\n",
    "    \"\"\"\n",
    "    In the sherpa results I average after each iteration, so the final iteration carries the mean score.\n",
    "    We need to disregard the 'complete' row registered by sherpa (as that takes the minimum of the iterations).\n",
    "    \"\"\"\n",
    "    max_iter = sherpa_results['Iteration'].max()\n",
    "    final = sherpa_results.loc[np.logical_and(test['Iteration'] == max_iter,test['Status'] == 'INTERMEDIATE'),:]\n",
    "    best = final.iloc[final['Objective'].rank().values <= nbest,:] # We sort ascending and lower is better\n",
    "    return best"
   ]
  },
  {
   "cell_type": "markdown",
   "metadata": {},
   "source": [
    "### All combinations\n",
    "With their four best sequential foreward predictors. Selected for a model with\n",
    "\n",
    "|param|value|\n",
    "|---|---|\n",
    "|batch size|32|\n",
    "|patience|7|\n",
    "|epochs|40|\n",
    "|lr|0.0014|\n",
    "|nhidden layers | 1|\n",
    "|hidden nodes|4|"
   ]
  },
  {
   "cell_type": "code",
   "execution_count": 54,
   "metadata": {},
   "outputs": [],
   "source": [
    "params = ['batch_size','earlystop_patience','lr','n_hidden_layers','n_hiddenlayer_nodes']"
   ]
  },
  {
   "cell_type": "code",
   "execution_count": 51,
   "metadata": {},
   "outputs": [],
   "source": [
    "combs = browse_load_dir(Path('/nobackup/users/straaten/hyperparams/'), nbest = 11)\n",
    "med_of_best = combs.groupby(['timeagg','extremity'], axis = 0).median()"
   ]
  },
  {
   "cell_type": "code",
   "execution_count": 69,
   "metadata": {},
   "outputs": [
    {
     "data": {
      "text/html": [
       "<div>\n",
       "<style scoped>\n",
       "    .dataframe tbody tr th:only-of-type {\n",
       "        vertical-align: middle;\n",
       "    }\n",
       "\n",
       "    .dataframe tbody tr th {\n",
       "        vertical-align: top;\n",
       "    }\n",
       "\n",
       "    .dataframe thead th {\n",
       "        text-align: right;\n",
       "    }\n",
       "</style>\n",
       "<table border=\"1\" class=\"dataframe\">\n",
       "  <thead>\n",
       "    <tr style=\"text-align: right;\">\n",
       "      <th></th>\n",
       "      <th></th>\n",
       "      <th>Trial-ID</th>\n",
       "      <th>Iteration</th>\n",
       "      <th>batch_size</th>\n",
       "      <th>earlystop_patience</th>\n",
       "      <th>lr</th>\n",
       "      <th>n_hidden_layers</th>\n",
       "      <th>n_hiddenlayer_nodes</th>\n",
       "      <th>Objective</th>\n",
       "      <th>earliest_stop</th>\n",
       "      <th>latest_stop</th>\n",
       "    </tr>\n",
       "    <tr>\n",
       "      <th>timeagg</th>\n",
       "      <th>extremity</th>\n",
       "      <th></th>\n",
       "      <th></th>\n",
       "      <th></th>\n",
       "      <th></th>\n",
       "      <th></th>\n",
       "      <th></th>\n",
       "      <th></th>\n",
       "      <th></th>\n",
       "      <th></th>\n",
       "      <th></th>\n",
       "    </tr>\n",
       "  </thead>\n",
       "  <tbody>\n",
       "    <tr>\n",
       "      <th rowspan=\"4\" valign=\"top\">21D-roll-mean</th>\n",
       "      <th>q0.5</th>\n",
       "      <td>64.0</td>\n",
       "      <td>7.0</td>\n",
       "      <td>32.0</td>\n",
       "      <td>8.0</td>\n",
       "      <td>0.001392</td>\n",
       "      <td>2.0</td>\n",
       "      <td>5.0</td>\n",
       "      <td>0.385290</td>\n",
       "      <td>11.0</td>\n",
       "      <td>37.0</td>\n",
       "    </tr>\n",
       "    <tr>\n",
       "      <th>q0.66</th>\n",
       "      <td>126.0</td>\n",
       "      <td>7.0</td>\n",
       "      <td>64.0</td>\n",
       "      <td>10.0</td>\n",
       "      <td>0.001050</td>\n",
       "      <td>2.0</td>\n",
       "      <td>5.0</td>\n",
       "      <td>0.305637</td>\n",
       "      <td>14.0</td>\n",
       "      <td>102.0</td>\n",
       "    </tr>\n",
       "    <tr>\n",
       "      <th>q0.75</th>\n",
       "      <td>106.0</td>\n",
       "      <td>7.0</td>\n",
       "      <td>16.0</td>\n",
       "      <td>9.0</td>\n",
       "      <td>0.000708</td>\n",
       "      <td>2.0</td>\n",
       "      <td>6.0</td>\n",
       "      <td>0.222335</td>\n",
       "      <td>22.0</td>\n",
       "      <td>32.0</td>\n",
       "    </tr>\n",
       "    <tr>\n",
       "      <th>q0.9</th>\n",
       "      <td>111.0</td>\n",
       "      <td>7.0</td>\n",
       "      <td>32.0</td>\n",
       "      <td>8.0</td>\n",
       "      <td>0.001164</td>\n",
       "      <td>2.0</td>\n",
       "      <td>5.0</td>\n",
       "      <td>0.091315</td>\n",
       "      <td>22.0</td>\n",
       "      <td>33.0</td>\n",
       "    </tr>\n",
       "    <tr>\n",
       "      <th rowspan=\"4\" valign=\"top\">31D-roll-mean</th>\n",
       "      <th>q0.5</th>\n",
       "      <td>74.0</td>\n",
       "      <td>7.0</td>\n",
       "      <td>32.0</td>\n",
       "      <td>8.0</td>\n",
       "      <td>0.001484</td>\n",
       "      <td>2.0</td>\n",
       "      <td>6.0</td>\n",
       "      <td>0.352266</td>\n",
       "      <td>11.0</td>\n",
       "      <td>21.0</td>\n",
       "    </tr>\n",
       "    <tr>\n",
       "      <th>q0.66</th>\n",
       "      <td>123.0</td>\n",
       "      <td>7.0</td>\n",
       "      <td>16.0</td>\n",
       "      <td>8.0</td>\n",
       "      <td>0.001253</td>\n",
       "      <td>2.0</td>\n",
       "      <td>7.0</td>\n",
       "      <td>0.259604</td>\n",
       "      <td>12.0</td>\n",
       "      <td>25.0</td>\n",
       "    </tr>\n",
       "    <tr>\n",
       "      <th>q0.75</th>\n",
       "      <td>77.0</td>\n",
       "      <td>7.0</td>\n",
       "      <td>32.0</td>\n",
       "      <td>9.0</td>\n",
       "      <td>0.001239</td>\n",
       "      <td>2.0</td>\n",
       "      <td>2.0</td>\n",
       "      <td>0.205782</td>\n",
       "      <td>12.0</td>\n",
       "      <td>45.0</td>\n",
       "    </tr>\n",
       "    <tr>\n",
       "      <th>q0.9</th>\n",
       "      <td>67.0</td>\n",
       "      <td>7.0</td>\n",
       "      <td>64.0</td>\n",
       "      <td>8.0</td>\n",
       "      <td>0.001280</td>\n",
       "      <td>2.0</td>\n",
       "      <td>6.0</td>\n",
       "      <td>0.100925</td>\n",
       "      <td>10.0</td>\n",
       "      <td>33.0</td>\n",
       "    </tr>\n",
       "    <tr>\n",
       "      <th rowspan=\"4\" valign=\"top\">tg-ex-q0.75-21D</th>\n",
       "      <th>ge11D</th>\n",
       "      <td>115.0</td>\n",
       "      <td>7.0</td>\n",
       "      <td>16.0</td>\n",
       "      <td>9.0</td>\n",
       "      <td>0.000997</td>\n",
       "      <td>2.0</td>\n",
       "      <td>6.0</td>\n",
       "      <td>0.092871</td>\n",
       "      <td>13.0</td>\n",
       "      <td>56.0</td>\n",
       "    </tr>\n",
       "    <tr>\n",
       "      <th>ge5D</th>\n",
       "      <td>121.0</td>\n",
       "      <td>7.0</td>\n",
       "      <td>64.0</td>\n",
       "      <td>8.0</td>\n",
       "      <td>0.001457</td>\n",
       "      <td>2.0</td>\n",
       "      <td>6.0</td>\n",
       "      <td>0.367933</td>\n",
       "      <td>15.0</td>\n",
       "      <td>18.0</td>\n",
       "    </tr>\n",
       "    <tr>\n",
       "      <th>ge7D</th>\n",
       "      <td>117.0</td>\n",
       "      <td>7.0</td>\n",
       "      <td>16.0</td>\n",
       "      <td>9.0</td>\n",
       "      <td>0.001089</td>\n",
       "      <td>1.0</td>\n",
       "      <td>7.0</td>\n",
       "      <td>0.267292</td>\n",
       "      <td>15.0</td>\n",
       "      <td>156.0</td>\n",
       "    </tr>\n",
       "    <tr>\n",
       "      <th>ge9D</th>\n",
       "      <td>123.0</td>\n",
       "      <td>7.0</td>\n",
       "      <td>32.0</td>\n",
       "      <td>10.0</td>\n",
       "      <td>0.001748</td>\n",
       "      <td>1.0</td>\n",
       "      <td>5.0</td>\n",
       "      <td>0.150636</td>\n",
       "      <td>31.0</td>\n",
       "      <td>182.0</td>\n",
       "    </tr>\n",
       "  </tbody>\n",
       "</table>\n",
       "</div>"
      ],
      "text/plain": [
       "                           Trial-ID  Iteration  batch_size  \\\n",
       "timeagg         extremity                                    \n",
       "21D-roll-mean   q0.5           64.0        7.0        32.0   \n",
       "                q0.66         126.0        7.0        64.0   \n",
       "                q0.75         106.0        7.0        16.0   \n",
       "                q0.9          111.0        7.0        32.0   \n",
       "31D-roll-mean   q0.5           74.0        7.0        32.0   \n",
       "                q0.66         123.0        7.0        16.0   \n",
       "                q0.75          77.0        7.0        32.0   \n",
       "                q0.9           67.0        7.0        64.0   \n",
       "tg-ex-q0.75-21D ge11D         115.0        7.0        16.0   \n",
       "                ge5D          121.0        7.0        64.0   \n",
       "                ge7D          117.0        7.0        16.0   \n",
       "                ge9D          123.0        7.0        32.0   \n",
       "\n",
       "                           earlystop_patience        lr  n_hidden_layers  \\\n",
       "timeagg         extremity                                                  \n",
       "21D-roll-mean   q0.5                      8.0  0.001392              2.0   \n",
       "                q0.66                    10.0  0.001050              2.0   \n",
       "                q0.75                     9.0  0.000708              2.0   \n",
       "                q0.9                      8.0  0.001164              2.0   \n",
       "31D-roll-mean   q0.5                      8.0  0.001484              2.0   \n",
       "                q0.66                     8.0  0.001253              2.0   \n",
       "                q0.75                     9.0  0.001239              2.0   \n",
       "                q0.9                      8.0  0.001280              2.0   \n",
       "tg-ex-q0.75-21D ge11D                     9.0  0.000997              2.0   \n",
       "                ge5D                      8.0  0.001457              2.0   \n",
       "                ge7D                      9.0  0.001089              1.0   \n",
       "                ge9D                     10.0  0.001748              1.0   \n",
       "\n",
       "                           n_hiddenlayer_nodes  Objective  earliest_stop  \\\n",
       "timeagg         extremity                                                  \n",
       "21D-roll-mean   q0.5                       5.0   0.385290           11.0   \n",
       "                q0.66                      5.0   0.305637           14.0   \n",
       "                q0.75                      6.0   0.222335           22.0   \n",
       "                q0.9                       5.0   0.091315           22.0   \n",
       "31D-roll-mean   q0.5                       6.0   0.352266           11.0   \n",
       "                q0.66                      7.0   0.259604           12.0   \n",
       "                q0.75                      2.0   0.205782           12.0   \n",
       "                q0.9                       6.0   0.100925           10.0   \n",
       "tg-ex-q0.75-21D ge11D                      6.0   0.092871           13.0   \n",
       "                ge5D                       6.0   0.367933           15.0   \n",
       "                ge7D                       7.0   0.267292           15.0   \n",
       "                ge9D                       5.0   0.150636           31.0   \n",
       "\n",
       "                           latest_stop  \n",
       "timeagg         extremity               \n",
       "21D-roll-mean   q0.5              37.0  \n",
       "                q0.66            102.0  \n",
       "                q0.75             32.0  \n",
       "                q0.9              33.0  \n",
       "31D-roll-mean   q0.5              21.0  \n",
       "                q0.66             25.0  \n",
       "                q0.75             45.0  \n",
       "                q0.9              33.0  \n",
       "tg-ex-q0.75-21D ge11D             56.0  \n",
       "                ge5D              18.0  \n",
       "                ge7D             156.0  \n",
       "                ge9D             182.0  "
      ]
     },
     "execution_count": 69,
     "metadata": {},
     "output_type": "execute_result"
    }
   ],
   "source": [
    "med_of_best"
   ]
  },
  {
   "cell_type": "code",
   "execution_count": 56,
   "metadata": {},
   "outputs": [
    {
     "data": {
      "text/plain": [
       "batch_size             32.000000\n",
       "earlystop_patience      8.500000\n",
       "lr                      0.001246\n",
       "n_hidden_layers         2.000000\n",
       "n_hiddenlayer_nodes     6.000000\n",
       "dtype: float64"
      ]
     },
     "execution_count": 56,
     "metadata": {},
     "output_type": "execute_result"
    }
   ],
   "source": [
    "med_of_best[params].median()"
   ]
  },
  {
   "cell_type": "markdown",
   "metadata": {},
   "source": [
    "There does not seem to be a strong dependence on the predictand and its extremity. Overall the values tend to more complexity that under jmeasure. But this is with predictors selected specifically for performance in the same train-validation set. It might be too optimistic."
   ]
  },
  {
   "cell_type": "markdown",
   "metadata": {},
   "source": [
    "### J-measure (8) + dynamical\n",
    "predicting (old / non-smooth) tgex in 21D > 5. With the 8 most important jmeasure predictands. Preference here seems to be less deep."
   ]
  },
  {
   "cell_type": "code",
   "execution_count": 66,
   "metadata": {},
   "outputs": [
    {
     "name": "stderr",
     "output_type": "stream",
     "text": [
      "/tmp/ipykernel_3276191/1695888072.py:1: FutureWarning: Dropping of nuisance columns in DataFrame reductions (with 'numeric_only=None') is deprecated; in a future version this will raise TypeError.  Select only valid columns before calling the reduction.\n",
      "  browse_load_dir(Path('/nobackup/users/straaten/hyperparams/nonsmooth/'), nbest = 11).median()[params]\n"
     ]
    },
    {
     "data": {
      "text/plain": [
       "batch_size             32.000000\n",
       "earlystop_patience      7.000000\n",
       "lr                      0.001549\n",
       "n_hidden_layers         1.000000\n",
       "n_hiddenlayer_nodes     5.000000\n",
       "dtype: float64"
      ]
     },
     "execution_count": 66,
     "metadata": {},
     "output_type": "execute_result"
    }
   ],
   "source": [
    "browse_load_dir(Path('/nobackup/users/straaten/hyperparams/nonsmooth/'), nbest = 11).median()[params]"
   ]
  },
  {
   "cell_type": "markdown",
   "metadata": {},
   "source": [
    "### 21D > q0.5, lead 12-15\n",
    "With 4 most important multipass predictors.\n",
    "Batch of new predictor selection runs after estimation of the smooth climatologies. But not with full access to 21day and 31day dynamic predictors"
   ]
  },
  {
   "cell_type": "code",
   "execution_count": 67,
   "metadata": {},
   "outputs": [
    {
     "name": "stderr",
     "output_type": "stream",
     "text": [
      "/tmp/ipykernel_3276191/2014120324.py:1: FutureWarning: Dropping of nuisance columns in DataFrame reductions (with 'numeric_only=None') is deprecated; in a future version this will raise TypeError.  Select only valid columns before calling the reduction.\n",
      "  browse_load_dir(Path('/nobackup/users/straaten/hyperparams/swvlshortscale/'), nbest = 11).median()[params]\n"
     ]
    },
    {
     "data": {
      "text/plain": [
       "batch_size             16.000000\n",
       "earlystop_patience      6.000000\n",
       "lr                      0.001579\n",
       "n_hidden_layers         2.000000\n",
       "n_hiddenlayer_nodes     5.000000\n",
       "dtype: float64"
      ]
     },
     "execution_count": 67,
     "metadata": {},
     "output_type": "execute_result"
    }
   ],
   "source": [
    "browse_load_dir(Path('/nobackup/users/straaten/hyperparams/swvlshortscale/'), nbest = 11).median()[params]"
   ]
  },
  {
   "cell_type": "markdown",
   "metadata": {},
   "source": [
    "### Final choice\n",
    "\n",
    "\n",
    "|param|value|\n",
    "|---|---|\n",
    "|batch size|32|\n",
    "|early stop patience|7|\n",
    "|epochs|200|\n",
    "|learning rate|0.0014|\n",
    "|n hidden layers | 1|\n",
    "|n hidden nodes|4|"
   ]
  },
  {
   "cell_type": "code",
   "execution_count": null,
   "metadata": {},
   "outputs": [],
   "source": []
  }
 ],
 "metadata": {
  "kernelspec": {
   "display_name": "DLVENV",
   "language": "python",
   "name": "dlvenv"
  },
  "language_info": {
   "codemirror_mode": {
    "name": "ipython",
    "version": 3
   },
   "file_extension": ".py",
   "mimetype": "text/x-python",
   "name": "python",
   "nbconvert_exporter": "python",
   "pygments_lexer": "ipython3",
   "version": "3.10.2"
  }
 },
 "nbformat": 4,
 "nbformat_minor": 4
}
