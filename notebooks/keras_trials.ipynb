{
 "cells": [
  {
   "cell_type": "code",
   "execution_count": 53,
   "metadata": {},
   "outputs": [],
   "source": [
    "import matplotlib.pyplot as plt\n",
    "import tensorflow as tf\n",
    "import numpy as np\n",
    "import pandas as pd\n",
    "from sklearn.linear_model import LogisticRegression\n",
    "from sklearn.preprocessing import MinMaxScaler\n",
    "\n",
    "from Hybrid.neuralnet import construct_climdev_model, ClimLogProbLayer, preferred_loss, earlystop"
   ]
  },
  {
   "cell_type": "code",
   "execution_count": 288,
   "metadata": {},
   "outputs": [],
   "source": [
    "mnist = tf.keras.datasets.mnist\n",
    "\n",
    "(x_train, y_train), (x_test, y_test) = mnist.load_data()\n",
    "x_train, x_test = x_train / 255.0, x_test / 255.0"
   ]
  },
  {
   "cell_type": "code",
   "execution_count": 290,
   "metadata": {},
   "outputs": [
    {
     "data": {
      "text/plain": [
       "array([5, 0, 4, ..., 5, 6, 8], dtype=uint8)"
      ]
     },
     "execution_count": 290,
     "metadata": {},
     "output_type": "execute_result"
    }
   ],
   "source": [
    "y_train"
   ]
  },
  {
   "cell_type": "code",
   "execution_count": 4,
   "metadata": {},
   "outputs": [
    {
     "name": "stderr",
     "output_type": "stream",
     "text": [
      "2021-08-06 08:27:00.739150: W tensorflow/stream_executor/platform/default/dso_loader.cc:64] Could not load dynamic library 'libcuda.so.1'; dlerror: libcuda.so.1: cannot open shared object file: No such file or directory\n",
      "2021-08-06 08:27:00.739175: W tensorflow/stream_executor/cuda/cuda_driver.cc:326] failed call to cuInit: UNKNOWN ERROR (303)\n",
      "2021-08-06 08:27:00.739211: I tensorflow/stream_executor/cuda/cuda_diagnostics.cc:156] kernel driver does not appear to be running on this host (pc160104.knmi.nl): /proc/driver/nvidia/version does not exist\n",
      "2021-08-06 08:27:00.739431: I tensorflow/core/platform/cpu_feature_guard.cc:142] This TensorFlow binary is optimized with oneAPI Deep Neural Network Library (oneDNN) to use the following CPU instructions in performance-critical operations:  AVX2 FMA\n",
      "To enable them in other operations, rebuild TensorFlow with the appropriate compiler flags.\n"
     ]
    }
   ],
   "source": [
    "model = tf.keras.models.Sequential([\n",
    "    tf.keras.layers.Flatten(input_shape=x_train.shape[1:]),\n",
    "    tf.keras.layers.Dense(128, activation='relu'),\n",
    "    tf.keras.layers.Dense(10, activation = 'linear') # sigmoid not the same as softmax (latter sums to 1)\n",
    "])"
   ]
  },
  {
   "cell_type": "markdown",
   "metadata": {},
   "source": [
    "So to summarize:\n",
    "* sigmoid produces per output [0,1] by 1/(1 + exp(-x_i))\n",
    "* softmax produces [0,1] over the whole vector exp(x_i)/sum(exp(x))\n",
    "They advise not to use softmax as activation somehow. Back propagation of loss is apparently better on the raw x. But cross entropy loss would still need to know they are coding for probabilities, so SparseCategoricalCrossentropy(from_logits=True). Basically because cross entropy again takes log(p). Basically uses integer labels to index.\n",
    "sccn is better on memory with many classes, because one-hot does not need to be in memory."
   ]
  },
  {
   "cell_type": "code",
   "execution_count": 71,
   "metadata": {},
   "outputs": [],
   "source": [
    "model.set_weights(wght)"
   ]
  },
  {
   "cell_type": "code",
   "execution_count": 7,
   "metadata": {},
   "outputs": [
    {
     "data": {
      "text/plain": [
       "(None, 10)"
      ]
     },
     "execution_count": 7,
     "metadata": {},
     "output_type": "execute_result"
    }
   ],
   "source": [
    "model.output_shape"
   ]
  },
  {
   "cell_type": "code",
   "execution_count": 8,
   "metadata": {},
   "outputs": [],
   "source": [
    "predictions = model(x_train[:1]).numpy()"
   ]
  },
  {
   "cell_type": "code",
   "execution_count": 9,
   "metadata": {},
   "outputs": [
    {
     "data": {
      "text/plain": [
       "array([[ 0.12503259,  1.0469252 , -0.21665932,  0.39617884, -0.23199446,\n",
       "         0.00365373, -0.15059008,  0.6000847 ,  0.83890784,  0.04767439]],\n",
       "      dtype=float32)"
      ]
     },
     "execution_count": 9,
     "metadata": {},
     "output_type": "execute_result"
    }
   ],
   "source": [
    "predictions"
   ]
  },
  {
   "cell_type": "code",
   "execution_count": 12,
   "metadata": {},
   "outputs": [
    {
     "data": {
      "text/plain": [
       "array([[0.08028147, 0.20183115, 0.05704537, 0.10528649, 0.05617724,\n",
       "        0.07110517, 0.06094161, 0.12910047, 0.16392583, 0.07430518]],\n",
       "      dtype=float32)"
      ]
     },
     "execution_count": 12,
     "metadata": {},
     "output_type": "execute_result"
    }
   ],
   "source": [
    "tf.nn.softmax(predictions).numpy()"
   ]
  },
  {
   "cell_type": "code",
   "execution_count": 40,
   "metadata": {
    "scrolled": true
   },
   "outputs": [
    {
     "data": {
      "text/plain": [
       "<function tensorflow.python.keras.activations.linear(x)>"
      ]
     },
     "execution_count": 40,
     "metadata": {},
     "output_type": "execute_result"
    }
   ],
   "source": [
    "model.layers[-1].activation"
   ]
  },
  {
   "cell_type": "code",
   "execution_count": 49,
   "metadata": {},
   "outputs": [],
   "source": [
    "wght = model.get_weights()"
   ]
  },
  {
   "cell_type": "code",
   "execution_count": 72,
   "metadata": {},
   "outputs": [],
   "source": [
    "test = model(x_train[:1]).numpy()"
   ]
  },
  {
   "cell_type": "code",
   "execution_count": 102,
   "metadata": {},
   "outputs": [
    {
     "data": {
      "text/plain": [
       "array([[-0.11352906,  0.34729177,  1.0644339 ,  0.5578108 ,  0.4750592 ,\n",
       "         0.40783092, -0.34774545,  0.01247715, -0.29448655, -0.04110484]],\n",
       "      dtype=float32)"
      ]
     },
     "execution_count": 102,
     "metadata": {},
     "output_type": "execute_result"
    }
   ],
   "source": [
    "test"
   ]
  },
  {
   "cell_type": "code",
   "execution_count": 64,
   "metadata": {},
   "outputs": [
    {
     "data": {
      "text/plain": [
       "-0.003932774"
      ]
     },
     "execution_count": 64,
     "metadata": {},
     "output_type": "execute_result"
    }
   ],
   "source": [
    "wght[0][0][0]"
   ]
  },
  {
   "cell_type": "code",
   "execution_count": 15,
   "metadata": {},
   "outputs": [],
   "source": [
    "loss_fn = tf.keras.losses.SparseCategoricalCrossentropy(from_logits=True)"
   ]
  },
  {
   "cell_type": "code",
   "execution_count": 16,
   "metadata": {},
   "outputs": [],
   "source": [
    "model.compile(optimizer='adam',\n",
    "              loss=loss_fn,\n",
    "              metrics=['accuracy'])"
   ]
  },
  {
   "cell_type": "code",
   "execution_count": 18,
   "metadata": {},
   "outputs": [
    {
     "name": "stdout",
     "output_type": "stream",
     "text": [
      "Epoch 1/5\n",
      "1875/1875 [==============================] - 2s 712us/step - loss: 0.2606 - accuracy: 0.9243\n",
      "Epoch 2/5\n",
      "1875/1875 [==============================] - 1s 719us/step - loss: 0.1141 - accuracy: 0.9656\n",
      "Epoch 3/5\n",
      "1875/1875 [==============================] - 1s 708us/step - loss: 0.0780 - accuracy: 0.9768\n",
      "Epoch 4/5\n",
      "1875/1875 [==============================] - 1s 712us/step - loss: 0.0591 - accuracy: 0.9818\n",
      "Epoch 5/5\n",
      "1875/1875 [==============================] - 1s 712us/step - loss: 0.0461 - accuracy: 0.9861\n"
     ]
    },
    {
     "data": {
      "text/plain": [
       "<tensorflow.python.keras.callbacks.History at 0x7f91cb75bd60>"
      ]
     },
     "execution_count": 18,
     "metadata": {},
     "output_type": "execute_result"
    }
   ],
   "source": [
    "model.fit(x_train, y_train, epochs=5)"
   ]
  },
  {
   "cell_type": "code",
   "execution_count": 20,
   "metadata": {},
   "outputs": [
    {
     "data": {
      "text/plain": [
       "<tf.Tensor: shape=(1, 10), dtype=float32, numpy=\n",
       "array([[ -4.7125406 ,  -8.343181  ,  -0.87435186,   0.7036193 ,\n",
       "        -10.174395  ,  -7.2959085 , -11.953187  ,  11.537861  ,\n",
       "         -4.317952  ,  -2.3435347 ]], dtype=float32)>"
      ]
     },
     "execution_count": 20,
     "metadata": {},
     "output_type": "execute_result"
    }
   ],
   "source": [
    "model(x_test[:1,:,:])"
   ]
  },
  {
   "cell_type": "code",
   "execution_count": 19,
   "metadata": {},
   "outputs": [
    {
     "name": "stdout",
     "output_type": "stream",
     "text": [
      "313/313 - 0s - loss: 0.0727 - accuracy: 0.9759\n"
     ]
    },
    {
     "data": {
      "text/plain": [
       "[0.07271945476531982, 0.9758999943733215]"
      ]
     },
     "execution_count": 19,
     "metadata": {},
     "output_type": "execute_result"
    }
   ],
   "source": [
    "model.evaluate(x_test,  y_test, verbose=2)"
   ]
  },
  {
   "cell_type": "code",
   "execution_count": 21,
   "metadata": {},
   "outputs": [],
   "source": [
    "probability_model = tf.keras.Sequential([\n",
    "  model,\n",
    "  tf.keras.layers.Softmax()\n",
    "])"
   ]
  },
  {
   "cell_type": "code",
   "execution_count": 22,
   "metadata": {},
   "outputs": [
    {
     "data": {
      "text/plain": [
       "<tf.Tensor: shape=(1, 10), dtype=float32, numpy=\n",
       "array([[8.7605208e-08, 2.3214652e-09, 4.0684954e-06, 1.9712319e-05,\n",
       "        3.7194303e-10, 6.6158750e-09, 6.2799640e-11, 9.9997509e-01,\n",
       "        1.2998615e-07, 9.3621543e-07]], dtype=float32)>"
      ]
     },
     "execution_count": 22,
     "metadata": {},
     "output_type": "execute_result"
    }
   ],
   "source": [
    "probability_model(x_test[:1,:,:])"
   ]
  },
  {
   "cell_type": "code",
   "execution_count": 128,
   "metadata": {},
   "outputs": [
    {
     "data": {
      "text/plain": [
       "[<tf.Variable 'dense_13/kernel:0' shape=(128, 10) dtype=float32, numpy=\n",
       " array([[-0.05601987, -0.16742739,  0.18540995, ...,  0.4315883 ,\n",
       "         -0.5043025 , -0.5293284 ],\n",
       "        [-0.10358016,  0.27437437,  0.3868654 , ...,  0.00583949,\n",
       "          0.37827742, -0.5964153 ],\n",
       "        [ 0.3542829 , -0.43914926,  0.07479873, ...,  0.07123072,\n",
       "          0.23323284, -0.15051797],\n",
       "        ...,\n",
       "        [-0.5266266 , -0.04204959, -0.7249568 , ...,  0.2896955 ,\n",
       "         -0.1330448 ,  0.08046518],\n",
       "        [-0.1475971 ,  0.1735117 ,  0.12642029, ...,  0.29665697,\n",
       "         -0.30806977, -0.05913567],\n",
       "        [ 0.12246256, -0.22739708,  0.12419337, ..., -0.1415676 ,\n",
       "          0.22693579,  0.1645778 ]], dtype=float32)>,\n",
       " <tf.Variable 'dense_13/bias:0' shape=(10,) dtype=float32, numpy=\n",
       " array([-0.08749525, -0.06465504,  0.01288976, -0.07438051,  0.02712399,\n",
       "         0.07164072, -0.00017467, -0.05728686,  0.12236173, -0.02882186],\n",
       "       dtype=float32)>]"
      ]
     },
     "execution_count": 128,
     "metadata": {},
     "output_type": "execute_result"
    }
   ],
   "source": [
    "probability_model.layers[0].layers[-1].weights"
   ]
  },
  {
   "cell_type": "code",
   "execution_count": 120,
   "metadata": {},
   "outputs": [
    {
     "name": "stdout",
     "output_type": "stream",
     "text": [
      "Model: \"sequential_7\"\n",
      "_________________________________________________________________\n",
      "Layer (type)                 Output Shape              Param #   \n",
      "=================================================================\n",
      "flatten_7 (Flatten)          (None, 784)               0         \n",
      "_________________________________________________________________\n",
      "dense_10 (Dense)             (None, 128)               100480    \n",
      "_________________________________________________________________\n",
      "dense_11 (Dense)             (None, 10)                1290      \n",
      "=================================================================\n",
      "Total params: 101,770\n",
      "Trainable params: 101,770\n",
      "Non-trainable params: 0\n",
      "_________________________________________________________________\n"
     ]
    }
   ],
   "source": [
    "probability_model.layers[0].summary()"
   ]
  },
  {
   "cell_type": "code",
   "execution_count": 78,
   "metadata": {},
   "outputs": [
    {
     "data": {
      "text/plain": [
       "<tf.Tensor: shape=(10, 5), dtype=float32, numpy=\n",
       "array([[0., 0., 0., 0., 0.],\n",
       "       [0., 0., 0., 0., 0.],\n",
       "       [0., 0., 0., 0., 0.],\n",
       "       [0., 0., 0., 0., 0.],\n",
       "       [0., 0., 0., 0., 0.],\n",
       "       [0., 0., 0., 0., 0.],\n",
       "       [0., 0., 0., 0., 0.],\n",
       "       [0., 0., 0., 0., 0.],\n",
       "       [0., 0., 0., 0., 0.],\n",
       "       [0., 0., 0., 0., 0.]], dtype=float32)>"
      ]
     },
     "execution_count": 78,
     "metadata": {},
     "output_type": "execute_result"
    }
   ],
   "source": [
    "class ConstantProbLayer(tf.keras.layers.Layer):\n",
    "  def __init__(self, as_logit = False, activation = 'linear', **kwargs):\n",
    "    super(ConstantProbLayer, self).__init__(**kwargs)\n",
    "    self.as_logit = as_logit\n",
    "    self.activation = tf.keras.activations.get(activation)\n",
    "\n",
    "  def build(self, input_shape):\n",
    "    self.nout = int(input_shape[-1])\n",
    "    # Uniform dist. summing to 1\n",
    "    if self.as_logit:\n",
    "        self.constantval = np.log(1/self.nout)\n",
    "    else:\n",
    "        self.constantval = 1/self.nout\n",
    "    self.probs = self.add_weight(name = \"climprob\",\n",
    "                                 shape=[self.nout,],\n",
    "                                 initializer = tf.keras.initializers.Constant(self.constantval),\n",
    "                                 trainable = False\n",
    "                                )\n",
    "\n",
    "  def call(self, inputs):\n",
    "    return self.activation(tf.add(inputs, self.probs))\n",
    "\n",
    "layer = ConstantProbLayer(True, activation = 'relu')\n",
    "layer(tf.zeros((10,5)))"
   ]
  },
  {
   "cell_type": "code",
   "execution_count": 173,
   "metadata": {},
   "outputs": [],
   "source": [
    "model = tf.keras.models.Sequential([\n",
    "    tf.keras.layers.Flatten(input_shape=x_train.shape[1:]),\n",
    "    tf.keras.layers.Dense(128, activation='relu'),\n",
    "    tf.keras.layers.Dense(10, activation = 'linear'),\n",
    "    ConstantProbLayer(as_logit = True, activation = 'softmax')\n",
    "])"
   ]
  },
  {
   "cell_type": "code",
   "execution_count": 174,
   "metadata": {},
   "outputs": [
    {
     "name": "stdout",
     "output_type": "stream",
     "text": [
      "Model: \"sequential_12\"\n",
      "_________________________________________________________________\n",
      "Layer (type)                 Output Shape              Param #   \n",
      "=================================================================\n",
      "flatten_10 (Flatten)         (None, 784)               0         \n",
      "_________________________________________________________________\n",
      "dense_16 (Dense)             (None, 128)               100480    \n",
      "_________________________________________________________________\n",
      "dense_17 (Dense)             (None, 10)                1290      \n",
      "_________________________________________________________________\n",
      "constant_prob_layer_8 (Const (None, 10)                10        \n",
      "=================================================================\n",
      "Total params: 101,780\n",
      "Trainable params: 101,770\n",
      "Non-trainable params: 10\n",
      "_________________________________________________________________\n"
     ]
    }
   ],
   "source": [
    "model.summary()"
   ]
  },
  {
   "cell_type": "code",
   "execution_count": 175,
   "metadata": {},
   "outputs": [],
   "source": [
    "#loss_fn = tf.keras.losses.SparseCategoricalCrossentropy(from_logits=True)\n",
    "loss_fn = tf.keras.losses.SparseCategoricalCrossentropy(from_logits=False)"
   ]
  },
  {
   "cell_type": "code",
   "execution_count": 176,
   "metadata": {},
   "outputs": [
    {
     "name": "stdout",
     "output_type": "stream",
     "text": [
      "Epoch 1/5\n",
      "1875/1875 [==============================] - 2s 715us/step - loss: 0.2666 - accuracy: 0.9241\n",
      "Epoch 2/5\n",
      "1875/1875 [==============================] - 1s 715us/step - loss: 0.1157 - accuracy: 0.9656\n",
      "Epoch 3/5\n",
      "1875/1875 [==============================] - 1s 718us/step - loss: 0.0802 - accuracy: 0.9761\n",
      "Epoch 4/5\n",
      "1875/1875 [==============================] - 1s 712us/step - loss: 0.0603 - accuracy: 0.9815\n",
      "Epoch 5/5\n",
      "1875/1875 [==============================] - 1s 718us/step - loss: 0.0474 - accuracy: 0.9853\n"
     ]
    },
    {
     "data": {
      "text/plain": [
       "<tensorflow.python.keras.callbacks.History at 0x7ffabc3cc460>"
      ]
     },
     "execution_count": 176,
     "metadata": {},
     "output_type": "execute_result"
    }
   ],
   "source": [
    "model.compile(optimizer='adam',\n",
    "              loss=loss_fn,\n",
    "              metrics=['accuracy'])\n",
    "model.fit(x_train, y_train, epochs=5)"
   ]
  },
  {
   "cell_type": "markdown",
   "metadata": {},
   "source": [
    "### With some real data\n",
    "So we need a layer generating the probabilities based on changing time = log(p_clim_t). And a layer to add: z = log(p_clim) + x. When this is softmax activated it becomes a multiplication: exp(z) = exp(log(p_clim))\\*exp(x) = exp(x)\\*p_clim\n",
    "\n",
    "x can be understood as the logarithm of the multiplier."
   ]
  },
  {
   "cell_type": "code",
   "execution_count": 58,
   "metadata": {},
   "outputs": [],
   "source": [
    "daythreshold = 2\n",
    "leadtime = 2 # How to pool lead-times? Perhaps just forecast-observation pairs from multiple. And at inference time you can even predict a single one.\n",
    "clustid = 9"
   ]
  },
  {
   "cell_type": "code",
   "execution_count": 59,
   "metadata": {},
   "outputs": [],
   "source": [
    "# Output data. shape (nsamples, nclasses)\n",
    "datapath = '/nobackup_1/users/straaten/match/paper3-2_tg-ex-q0.75-7D_JJA_45r1_1D_15-t2m-q095-adapted-mean_0ff8862e17c44052ae517a5c35817e6b.h5'\n",
    "df = pd.read_hdf(datapath)\n",
    "obs = df.loc[df['clustid'] == clustid, ['time','observation']].set_index('time')\n",
    "obs = obs.loc[~obs.index.duplicated(keep = 'first'),[('observation',0)]] >= daythreshold"
   ]
  },
  {
   "cell_type": "code",
   "execution_count": 60,
   "metadata": {},
   "outputs": [],
   "source": [
    "# Input data\n",
    "z300_input = '/nobackup_1/users/straaten/match/paper3-3-simple_z-anom_JJA_45r1_7D-roll-mean_1-swvl-simple-mean_faed7e53f7784d378ebdbe7dad8bef90.h5'\n",
    "swvl13_input = '/nobackup_1/users/straaten/match/paper3-3-simple_swvl13-anom_JJA_45r1_7D-roll-mean_1-swvl-simple-mean_6921d7dbb71344da826d7647596273df.h5'\n",
    "z300 = pd.read_hdf(z300_input) # only 1 clustid\n",
    "z300 = z300.loc[z300['leadtime'] == leadtime,['time','forecast']].set_index('time')\n",
    "swvl13 = pd.read_hdf(swvl13_input) # only 1 clustid\n",
    "swvl13 = swvl13.loc[swvl13['leadtime'] == leadtime,['time','forecast']].set_index('time')\n",
    "\n",
    "inputs = pd.DataFrame({'time':z300.index.to_julian_date().values,'z300-anom':z300.mean(axis=1),'swvl13-anom':swvl13.mean(axis = 1)}) # simply make ensemble means\n",
    "# match the indices.\n",
    "common_dates = inputs.index.intersection(obs.index)\n",
    "inputs = inputs.loc[common_dates,:]\n",
    "scaler = MinMaxScaler()\n",
    "X = scaler.fit_transform(inputs)"
   ]
  },
  {
   "cell_type": "code",
   "execution_count": 61,
   "metadata": {},
   "outputs": [],
   "source": [
    "obs = obs.loc[common_dates,:]\n",
    "y = obs.values"
   ]
  },
  {
   "cell_type": "code",
   "execution_count": 62,
   "metadata": {},
   "outputs": [
    {
     "data": {
      "text/plain": [
       "LogisticRegression()"
      ]
     },
     "execution_count": 62,
     "metadata": {},
     "output_type": "execute_result"
    }
   ],
   "source": [
    "lr = LogisticRegression()\n",
    "lr.fit(X = X[:,[0]], y = y.ravel())"
   ]
  },
  {
   "cell_type": "code",
   "execution_count": 63,
   "metadata": {},
   "outputs": [
    {
     "data": {
      "image/png": "[encoded data removed]",
      "text/plain": [
       "<Figure size 432x288 with 1 Axes>"
      ]
     },
     "metadata": {
      "needs_background": "light"
     },
     "output_type": "display_data"
    }
   ],
   "source": [
    "ax = obs.groupby(obs.index.year).mean().plot()\n",
    "problog = pd.Series(lr.predict_proba(X[:,[0]])[:,-1], index = common_dates)\n",
    "problog.groupby(problog.index.year).mean().plot(ax = ax, label = 'logistic_fit')\n",
    "plt.legend()\n",
    "plt.show()"
   ]
  },
  {
   "cell_type": "code",
   "execution_count": 64,
   "metadata": {},
   "outputs": [],
   "source": [
    "neg_pos_coef = np.concatenate((-lr.coef_[0,[0]],lr.coef_[0,[0]])) # first negative class, then positive class. such that output index zero corresponds to observed zero (important for sparse loss)\n",
    "neg_pos_intercept = np.concatenate((-lr.intercept_,lr.intercept_)) \n",
    "climprobkwargs=dict(coefs = neg_pos_coef, intercepts= neg_pos_intercept, activation = 'linear')\n",
    "model = construct_climdev_model(n_classes = 2, n_hidden_layers= 0, n_features = 2, climprobkwargs=climprobkwargs)"
   ]
  },
  {
   "cell_type": "code",
   "execution_count": 65,
   "metadata": {},
   "outputs": [
    {
     "name": "stdout",
     "output_type": "stream",
     "text": [
      "Model: \"model_5\"\n",
      "__________________________________________________________________________________________________\n",
      "Layer (type)                    Output Shape         Param #     Connected to                     \n",
      "==================================================================================================\n",
      "input_15 (InputLayer)           [(None, 1)]          0                                            \n",
      "__________________________________________________________________________________________________\n",
      "input_16 (InputLayer)           [(None, 2)]          0                                            \n",
      "__________________________________________________________________________________________________\n",
      "clim_log_prob_layer_6 (ClimLogP (None, 2)            4           input_15[0][0]                   \n",
      "__________________________________________________________________________________________________\n",
      "dense_7 (Dense)                 (None, 2)            6           input_16[0][0]                   \n",
      "__________________________________________________________________________________________________\n",
      "add_5 (Add)                     (None, 2)            0           clim_log_prob_layer_6[0][0]      \n",
      "                                                                 dense_7[0][0]                    \n",
      "__________________________________________________________________________________________________\n",
      "activation_5 (Activation)       (None, 2)            0           add_5[0][0]                      \n",
      "==================================================================================================\n",
      "Total params: 10\n",
      "Trainable params: 6\n",
      "Non-trainable params: 4\n",
      "__________________________________________________________________________________________________\n"
     ]
    }
   ],
   "source": [
    "model.summary()"
   ]
  },
  {
   "cell_type": "code",
   "execution_count": 67,
   "metadata": {
    "scrolled": true
   },
   "outputs": [
    {
     "name": "stdout",
     "output_type": "stream",
     "text": [
      "Epoch 1/20\n",
      "13/13 [==============================] - 0s 7ms/step - loss: 0.6449 - accuracy: 0.6139 - val_loss: 0.6679 - val_accuracy: 0.6238\n",
      "Epoch 2/20\n",
      "13/13 [==============================] - 0s 2ms/step - loss: 0.6395 - accuracy: 0.6139 - val_loss: 0.6618 - val_accuracy: 0.6634\n",
      "Epoch 3/20\n",
      "13/13 [==============================] - 0s 2ms/step - loss: 0.6342 - accuracy: 0.6139 - val_loss: 0.6569 - val_accuracy: 0.6535\n",
      "Epoch 4/20\n",
      "13/13 [==============================] - 0s 2ms/step - loss: 0.6292 - accuracy: 0.6163 - val_loss: 0.6512 - val_accuracy: 0.6832\n",
      "Epoch 5/20\n",
      "13/13 [==============================] - 0s 2ms/step - loss: 0.6243 - accuracy: 0.6188 - val_loss: 0.6462 - val_accuracy: 0.6832\n",
      "Epoch 6/20\n",
      "13/13 [==============================] - 0s 2ms/step - loss: 0.6190 - accuracy: 0.6262 - val_loss: 0.6412 - val_accuracy: 0.6931\n",
      "Epoch 7/20\n",
      "13/13 [==============================] - 0s 2ms/step - loss: 0.6148 - accuracy: 0.6436 - val_loss: 0.6340 - val_accuracy: 0.7327\n",
      "Epoch 8/20\n",
      "13/13 [==============================] - 0s 2ms/step - loss: 0.6092 - accuracy: 0.6485 - val_loss: 0.6304 - val_accuracy: 0.7129\n",
      "Epoch 9/20\n",
      "13/13 [==============================] - 0s 2ms/step - loss: 0.6052 - accuracy: 0.6535 - val_loss: 0.6252 - val_accuracy: 0.7327\n",
      "Epoch 10/20\n",
      "13/13 [==============================] - 0s 2ms/step - loss: 0.6002 - accuracy: 0.6634 - val_loss: 0.6219 - val_accuracy: 0.7030\n",
      "Epoch 11/20\n",
      "13/13 [==============================] - 0s 2ms/step - loss: 0.5960 - accuracy: 0.6708 - val_loss: 0.6172 - val_accuracy: 0.7624\n",
      "Epoch 12/20\n",
      "13/13 [==============================] - 0s 2ms/step - loss: 0.5919 - accuracy: 0.6906 - val_loss: 0.6131 - val_accuracy: 0.7723\n",
      "Epoch 13/20\n",
      "13/13 [==============================] - 0s 2ms/step - loss: 0.5882 - accuracy: 0.6931 - val_loss: 0.6096 - val_accuracy: 0.7624\n",
      "Epoch 14/20\n",
      "13/13 [==============================] - 0s 2ms/step - loss: 0.5840 - accuracy: 0.7054 - val_loss: 0.6055 - val_accuracy: 0.7822\n",
      "Epoch 15/20\n",
      "13/13 [==============================] - 0s 2ms/step - loss: 0.5804 - accuracy: 0.7104 - val_loss: 0.6019 - val_accuracy: 0.7921\n",
      "Epoch 16/20\n",
      "13/13 [==============================] - 0s 2ms/step - loss: 0.5770 - accuracy: 0.7129 - val_loss: 0.5985 - val_accuracy: 0.8020\n",
      "Epoch 17/20\n",
      "13/13 [==============================] - 0s 2ms/step - loss: 0.5732 - accuracy: 0.7178 - val_loss: 0.5953 - val_accuracy: 0.8020\n",
      "Epoch 18/20\n",
      "13/13 [==============================] - 0s 2ms/step - loss: 0.5697 - accuracy: 0.7153 - val_loss: 0.5924 - val_accuracy: 0.7921\n",
      "Epoch 19/20\n",
      "13/13 [==============================] - 0s 2ms/step - loss: 0.5666 - accuracy: 0.7104 - val_loss: 0.5896 - val_accuracy: 0.7822\n",
      "Epoch 20/20\n",
      "13/13 [==============================] - 0s 2ms/step - loss: 0.5632 - accuracy: 0.7277 - val_loss: 0.5862 - val_accuracy: 0.8020\n"
     ]
    },
    {
     "data": {
      "text/plain": [
       "<tensorflow.python.keras.callbacks.History at 0x7f8e5c157340>"
      ]
     },
     "execution_count": 67,
     "metadata": {},
     "output_type": "execute_result"
    }
   ],
   "source": [
    "model.compile(optimizer=tf.keras.optimizers.Adam(learning_rate=0.005),\n",
    "              loss=preferred_loss, #tf.keras.losses.SparseCategoricalCrossentropy(from_logits=False),\n",
    "              metrics=['accuracy']) # Don't pay too much attention to the accuracy. \n",
    "model.fit([X[:,1:],X[:,:1]], y + 0.0, epochs=20, validation_split=0.2, callbacks=[earlystop])  # TODO proper validation data."
   ]
  },
  {
   "cell_type": "code",
   "execution_count": 57,
   "metadata": {
    "scrolled": true
   },
   "outputs": [
    {
     "data": {
      "text/plain": [
       "[<tf.Variable 'clim_log_prob_layer_5/a:0' shape=(1, 2) dtype=float32, numpy=array([[-0.5244906,  0.5244906]], dtype=float32)>,\n",
       " <tf.Variable 'clim_log_prob_layer_5/b:0' shape=(2,) dtype=float32, numpy=array([ 0.50696945, -0.50696945], dtype=float32)>,\n",
       " <tf.Variable 'dense_6/kernel:0' shape=(2, 2) dtype=float32, numpy=\n",
       " array([[ 0.00354854, -0.00354813],\n",
       "        [ 0.00603458, -0.00603973]], dtype=float32)>,\n",
       " <tf.Variable 'dense_6/bias:0' shape=(2,) dtype=float32, numpy=array([ 0.00490489, -0.00491104], dtype=float32)>]"
      ]
     },
     "execution_count": 57,
     "metadata": {},
     "output_type": "execute_result"
    }
   ],
   "source": [
    "model.weights"
   ]
  },
  {
   "cell_type": "code",
   "execution_count": 32,
   "metadata": {
    "scrolled": true
   },
   "outputs": [
    {
     "data": {
      "text/plain": [
       "[<tf.Variable 'clim_log_prob_layer_2/a:0' shape=(1, 2) dtype=float32, numpy=array([[-0.44177666,  0.44177666]], dtype=float32)>,\n",
       " <tf.Variable 'clim_log_prob_layer_2/b:0' shape=(2,) dtype=float32, numpy=array([ 0.49933448, -0.49933448], dtype=float32)>,\n",
       " <tf.Variable 'dense_3/kernel:0' shape=(2, 2) dtype=float32, numpy=\n",
       " array([[-0.23659346,  0.24781771],\n",
       "        [ 0.16843504, -0.15094835]], dtype=float32)>,\n",
       " <tf.Variable 'dense_3/bias:0' shape=(2,) dtype=float32, numpy=array([ 0.04692203, -0.0185008 ], dtype=float32)>]"
      ]
     },
     "execution_count": 32,
     "metadata": {},
     "output_type": "execute_result"
    }
   ],
   "source": [
    "model.weights"
   ]
  },
  {
   "cell_type": "code",
   "execution_count": 33,
   "metadata": {},
   "outputs": [],
   "source": [
    "from sklearn.metrics import brier_score_loss"
   ]
  },
  {
   "cell_type": "code",
   "execution_count": 68,
   "metadata": {},
   "outputs": [
    {
     "data": {
      "text/plain": [
       "0.18951317975506135"
      ]
     },
     "execution_count": 68,
     "metadata": {},
     "output_type": "execute_result"
    }
   ],
   "source": [
    "brier_score_loss(y.squeeze(),model.predict([X[:,1:],X[:,:1]])[:,-1])"
   ]
  },
  {
   "cell_type": "code",
   "execution_count": 69,
   "metadata": {},
   "outputs": [
    {
     "data": {
      "text/plain": [
       "0.24163914317645918"
      ]
     },
     "execution_count": 69,
     "metadata": {},
     "output_type": "execute_result"
    }
   ],
   "source": [
    "brier_score_loss(y.squeeze(),lr.predict_proba(X[:,:1])[:,-1])"
   ]
  },
  {
   "cell_type": "code",
   "execution_count": 40,
   "metadata": {
    "scrolled": true
   },
   "outputs": [
    {
     "data": {
      "text/plain": [
       "array([[0.65654016, 0.34345993],\n",
       "       [0.6966039 , 0.3033961 ],\n",
       "       [0.66736686, 0.33263314],\n",
       "       ...,\n",
       "       [0.47216058, 0.5278394 ],\n",
       "       [0.48224783, 0.51775223],\n",
       "       [0.48790988, 0.5120901 ]], dtype=float32)"
      ]
     },
     "execution_count": 40,
     "metadata": {},
     "output_type": "execute_result"
    }
   ],
   "source": [
    "model.predict([X[:,1:],X[:,:1]])"
   ]
  },
  {
   "cell_type": "code",
   "execution_count": 28,
   "metadata": {},
   "outputs": [
    {
     "data": {
      "text/plain": [
       "array([[0.62230292, 0.37769708],\n",
       "       [0.62224879, 0.37775121],\n",
       "       [0.62220819, 0.37779181],\n",
       "       ...,\n",
       "       [0.51448616, 0.48551384],\n",
       "       [0.51444302, 0.48555698],\n",
       "       [0.51438549, 0.48561451]])"
      ]
     },
     "execution_count": 28,
     "metadata": {},
     "output_type": "execute_result"
    }
   ],
   "source": [
    "lr.predict_proba(X[:,:1])"
   ]
  },
  {
   "cell_type": "markdown",
   "metadata": {},
   "source": [
    "I was very confused about an old combinations of the model: Binary prediction with 1 output node (logarithm of probability of the positive class), using BinaryCrossEntropyLoss with from_logits = True. It was non-symmetric and led to completely wrong training.\n",
    "\n",
    "Good things:\n",
    "* untrained model (no extra activation) predicts exactly the same log_p_clim for the positive class as lr.predict_log_proba\n",
    "* I could use softmax activation inside the model (stores logits under the hood as output.\\_keras_logits, which are directed, under the hood, by tf.keras.backend.sparse_categorical_crossentropy to tf.nn.sparse_softmax_cross_entropy_with_logits, even when choosing from_logits = False)\n",
    "* If predicting two classes even for the binary case, then I should supply two sets of logistic regression coefficients. Luckily the negative values of postive class coefficients should give the negative class logodds. (both of which will sum to 1). So I can arrange that outside the neural network.\n",
    "\n",
    "Incomprehensible things:\n",
    "* probabilistic predictions outside range [0-1]. Actually because the binary cross-entropy loss from_logits can be lowered by issueing logits > 0, leading to probabilities larger than 1.\n",
    "* also the binary cross-entropy from logits is not symmetrical whereas the one from probabilities is. I very much require it to be symmetrical.\n",
    "* The reason was the difference between logits and logarithms. Logit is the inverse of the sigmoid function. I am outputting a (multitplied) logarithm of a probability. This is also why sigmoid activation would fail to produce the right results"
   ]
  },
  {
   "cell_type": "code",
   "execution_count": 219,
   "metadata": {},
   "outputs": [
    {
     "name": "stdout",
     "output_type": "stream",
     "text": [
      "tf.Tensor(0.09531018137931824, shape=(), dtype=float64)\n",
      "tf.Tensor(0.7472143769264221, shape=(), dtype=float64)\n",
      "tf.Tensor(0.10536051541566849, shape=(), dtype=float64)\n",
      "tf.Tensor(0.10536051541566849, shape=(), dtype=float64)\n",
      "tf.Tensor(0.10536040365695953, shape=(), dtype=float64)\n",
      "tf.Tensor(0.10536040365695953, shape=(), dtype=float64)\n"
     ]
    }
   ],
   "source": [
    "print(logitloss(np.array([0]), np.log(np.array([0.1]))))\n",
    "print(logitloss(np.array([1]), np.log(np.array([0.9]))))\n",
    "print(logitloss(np.array([0]), np.log(np.array([0.1])/(1-np.array([0.1])))))\n",
    "print(logitloss(np.array([1]), np.log(np.array([0.9])/(1-np.array([0.9]))))) # Now things are symmetric.\n",
    "print(probloss(np.array([0]), np.array([0.1]))) # \n",
    "print(probloss(np.array([1]), np.array([0.9])))"
   ]
  }
 ],
 "metadata": {
  "kernelspec": {
   "display_name": "DLVENV",
   "language": "python",
   "name": "dlvenv"
  },
  "language_info": {
   "codemirror_mode": {
    "name": "ipython",
    "version": 3
   },
   "file_extension": ".py",
   "mimetype": "text/x-python",
   "name": "python",
   "nbconvert_exporter": "python",
   "pygments_lexer": "ipython3",
   "version": "3.9.6"
  }
 },
 "nbformat": 4,
 "nbformat_minor": 4
}
