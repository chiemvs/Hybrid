{
 "cells": [
  {
   "cell_type": "code",
   "execution_count": 1,
   "metadata": {},
   "outputs": [],
   "source": [
    "import sys\n",
    "import os\n",
    "import numpy as np\n",
    "import xarray as xr\n",
    "import pandas as pd\n",
    "import matplotlib.pyplot as plt\n",
    "from scipy.signal import detrend\n",
    "from scipy.stats import spearmanr\n",
    "from sklearn.preprocessing import minmax_scale\n",
    "from pathlib import Path\n",
    "from matplotlib.gridspec import GridSpec"
   ]
  },
  {
   "cell_type": "code",
   "execution_count": 2,
   "metadata": {},
   "outputs": [
    {
     "name": "stderr",
     "output_type": "stream",
     "text": [
      "2022-03-21 11:11:22.143687: W tensorflow/stream_executor/platform/default/dso_loader.cc:64] Could not load dynamic library 'libcudart.so.11.0'; dlerror: libcudart.so.11.0: cannot open shared object file: No such file or directory\n",
      "2022-03-21 11:11:22.143707: I tensorflow/stream_executor/cuda/cudart_stub.cc:29] Ignore above cudart dlerror if you do not have a GPU set up on your machine.\n"
     ]
    }
   ],
   "source": [
    "sys.path.append(os.path.expanduser('~/Documents/Hybrid/'))\n",
    "from Hybrid.dataprep import default_prep, filter_predictor_set, j_measure, perkins\n",
    "\n",
    "sys.path.append(os.path.expanduser('~/Documents/Weave/'))\n",
    "from Weave.utils import collapse_restore_multiindex"
   ]
  },
  {
   "cell_type": "code",
   "execution_count": 3,
   "metadata": {},
   "outputs": [],
   "source": [
    "def load_sequential(name: str, basepath: Path):\n",
    "    temp = pd.read_csv(basepath / f'{name}.csv', index_col = 0, header = 0)\n",
    "    collapse_restore_multiindex(temp, axis = 1, names = ['variable','timeagg','clustid','metric'], dtypes = [str,int,int,str], inplace = True)\n",
    "    return temp\n",
    "\n",
    "def percentual_improvement(name: str, basepath: Path = Path('/nobackup/users/straaten/predsets/objective_balanced_cv/')):\n",
    "    \"\"\"Multipass change in the scores\"\"\"\n",
    "    assert '_multi_' in name, f'Can only be computed on a multipass file. Check {name}'\n",
    "    temp = load_sequential(name = name, basepath = basepath).loc['rps']\n",
    "    old = temp.iloc[:-1]\n",
    "    old.index = temp.index[1:] # The score upon which the predictor (index) should improve\n",
    "    new = temp.iloc[1:]\n",
    "    return((new-old)/old * 100)\n",
    "\n",
    "def compute_imps(targetname, with_gmst = True):\n",
    "    \"\"\" \n",
    "    Returns j_measures and 1-p_measures computed on the trainval set \n",
    "    \"\"\"\n",
    "    prepared_data, _ = default_prep(predictandname = targetname, npreds = None) # Loads all predictors from pre-saved files\n",
    "    obs_trainval = prepared_data.crossval.obs_trainval\n",
    "    X_trainval = prepared_data.crossval.X_trainval\n",
    "    # Test what a trend variable does. Not a trend in probability\n",
    "    # So perhaps just global mean surface temperature?\n",
    "    if with_gmst:\n",
    "        trend_path = '/nobackup/users/straaten/predsets/tg_monthly_global_mean_surface_only_trend.nc'\n",
    "        trend = xr.open_dataarray(trend_path).to_dataframe()\n",
    "        trend.columns = pd.MultiIndex.from_tuples([('tg-anom',31,0,'mean')], names = X_trainval.columns.names)\n",
    "        X_trainval = X_trainval.join(trend, how = 'left')\n",
    "    _, js = filter_predictor_set(X_trainval, obs_trainval.iloc[:,-1].astype(bool), how = j_measure, return_measures = True, nmost_important = 1, nbins=10)\n",
    "    _, ps = filter_predictor_set(X_trainval, obs_trainval.iloc[:,-1].astype(bool), how = perkins, return_measures = True, nmost_important = 1, nbins = 10)\n",
    "    oneminps = 1 - ps\n",
    "    oneminps.name = f'1-{ps.name}'\n",
    "    return pd.concat([js, oneminps], axis = 1)\n",
    "\n",
    "def load_sequential_imps(name: str, npreds: int = None, force_rank = True):\n",
    "    \"\"\"\n",
    "    Loads the sequential forward importances. (Ranks)\n",
    "    can be single (lots of predictors) or multi (only n_depth of predictors)\n",
    "    you can supply the total number of predictors (not inferable from size of the multi file)\n",
    "    \"\"\"\n",
    "    temp = load_sequential(name = name, basepath = Path('/nobackup/users/straaten/predsets/objective_balanced_cv/'))\n",
    "    if (npreds is None):\n",
    "        npreds = len(temp.columns)\n",
    "    if ('multi' in name) or force_rank:\n",
    "        result = npreds - temp.loc['rank']\n",
    "    else: # Singlepass, and not force_rank\n",
    "        result = -temp.loc['rps']\n",
    "    return result\n",
    "\n",
    "def load_combine_all(targetname: str, with_gmst = False) -> pd.DataFrame:\n",
    "    \"\"\"\n",
    "    Default way of loading and joining all importance measures: jmeasure, perkins,\n",
    "    single and multi (with nan's for multi)\n",
    "    \"\"\"\n",
    "    measures = compute_imps(targetname =targetname, with_gmst = with_gmst)\n",
    "    single = load_sequential_imps(name = targetname + '_single_d20_b3',force_rank=False)\n",
    "    single.name = 'single'\n",
    "    multi = load_sequential_imps(name = targetname + '_multi_d20_b3', npreds = len(single))\n",
    "    multi.name = 'multi'\n",
    "    combined = measures.join(single, how = 'left').join(multi, how = 'left')\n",
    "    return combined\n",
    "    \n",
    "def scatter(df, xcol, ycol, n_names = 10, title: str = None):\n",
    "    \"\"\"\n",
    "    Plots two columns of the dataframe (potentially sorted) against each other\n",
    "    names the bottom n_names rows by their index value\n",
    "    \"\"\"\n",
    "    fig, ax = plt.subplots()\n",
    "    ax.scatter(x = df[xcol], y = df[ycol], alpha = 0.3)\n",
    "    try: \n",
    "        trendpoint = df.loc[('tg-anom',31,0,'mean'),:]\n",
    "        ax.scatter(x = trendpoint.loc[xcol], y = trendpoint.loc[ycol], color = 'red')\n",
    "    except KeyError:\n",
    "        pass\n",
    "    for i in range(n_names):\n",
    "        #ax.text(x = df[xcol].iloc[-i], y = df[ycol].iloc[-i], s = str(df.index[-i]))\n",
    "        ax.annotate(str(df.index[i]), xy = (df[xcol].iloc[i],df[ycol].iloc[i]), xycoords = 'data',\n",
    "                    xytext=(1.05,np.linspace(1,0,num=n_names)[i]), textcoords='axes fraction',\n",
    "                   arrowprops=dict(color='grey', shrink=0.01, width = 0.2, headwidth = 0.8, zorder = 0))\n",
    "    ax.set_xlabel(xcol)\n",
    "    ax.set_ylabel(ycol)\n",
    "    if not (title is None):\n",
    "        ax.set_title(title)\n",
    "    return fig, ax"
   ]
  },
  {
   "cell_type": "markdown",
   "metadata": {},
   "source": [
    "### Visulization single predictand\n",
    "Joint visualization of character and several importances for the most successful model."
   ]
  },
  {
   "cell_type": "code",
   "execution_count": 4,
   "metadata": {},
   "outputs": [
    {
     "name": "stdout",
     "output_type": "stream",
     "text": [
      "reading full set, no objective selection\n",
      "fitting a new feature scaler\n",
      "fitting a new time scaler\n"
     ]
    },
    {
     "name": "stderr",
     "output_type": "stream",
     "text": [
      "/nobackup_1/users/straaten/DLVENV/lib64/python3.10/site-packages/sklearn/utils/validation.py:1688: FutureWarning: Feature names only support names that are all strings. Got feature names with dtypes: ['tuple']. An error will be raised in 1.2.\n",
      "  warnings.warn(\n",
      "/nobackup_1/users/straaten/DLVENV/lib64/python3.10/site-packages/sklearn/utils/validation.py:1688: FutureWarning: Feature names only support names that are all strings. Got feature names with dtypes: ['tuple']. An error will be raised in 1.2.\n",
      "  warnings.warn(\n",
      "/usr/people/straaten/Documents/Hybrid/Hybrid/dataprep.py:416: FutureWarning: Support for multi-dimensional indexing (e.g. `obj[:, None]`) is deprecated and will be removed in a future version.  Convert to a numpy array before indexing instead.\n",
      "  time_test = time_scaler.transform(obs_test.index.get_level_values('time').to_julian_date()[:,np.newaxis])\n",
      "/nobackup_1/users/straaten/DLVENV/lib64/python3.10/site-packages/sklearn/utils/validation.py:1688: FutureWarning: Feature names only support names that are all strings. Got feature names with dtypes: ['tuple']. An error will be raised in 1.2.\n",
      "  warnings.warn(\n",
      "2022-03-21 11:11:40.853124: W tensorflow/stream_executor/platform/default/dso_loader.cc:64] Could not load dynamic library 'libcuda.so.1'; dlerror: libcuda.so.1: cannot open shared object file: No such file or directory\n",
      "2022-03-21 11:11:40.853166: W tensorflow/stream_executor/cuda/cuda_driver.cc:269] failed call to cuInit: UNKNOWN ERROR (303)\n",
      "2022-03-21 11:11:40.853191: I tensorflow/stream_executor/cuda/cuda_diagnostics.cc:156] kernel driver does not appear to be running on this host (pc160104): /proc/driver/nvidia/version does not exist\n",
      "2022-03-21 11:11:40.853363: I tensorflow/core/platform/cpu_feature_guard.cc:151] This TensorFlow binary is optimized with oneAPI Deep Neural Network Library (oneDNN) to use the following CPU instructions in performance-critical operations:  AVX2 FMA\n",
      "To enable them in other operations, rebuild TensorFlow with the appropriate compiler flags.\n"
     ]
    },
    {
     "name": "stdout",
     "output_type": "stream",
     "text": [
      "using a pre-fitted feature scaler\n"
     ]
    }
   ],
   "source": [
    "timeagg = 31\n",
    "quantile = 0.5\n",
    "targetname = f'tg-anom_JJA_45r1_{timeagg}D-roll-mean_q{quantile}_sep12-15' \n",
    "combined = load_combine_all(targetname)\n",
    "#combined.loc[combined['multi'].isnull(),'multi'] = 1"
   ]
  },
  {
   "cell_type": "code",
   "execution_count": 5,
   "metadata": {},
   "outputs": [],
   "source": [
    "spherebook = {'oceanic':['sst','sst_nhplus','siconc_nhmin','pdo'],\n",
    "           'terrestrial':['swvl13_europe','swvl4_europe','transp_europe','swvl4', 'swvl13','snowc_nhmin'],\n",
    "           'atmospheric':['z','z-reg','mjo','z300_nhnorm','t850_nhblock','tcc_europe']}\n",
    "sourcebook = {'forc':['swvl13','swvl4','z','z-reg','sst'],\n",
    "              'init':['sst_nhplus','siconc_nhmin','pdo','swvl13_europe','swvl4_europe','transp_europe',\n",
    "                               'snowc_nhmin','mjo','z300_nhnorm','t850_nhblock','tcc_europe']}"
   ]
  },
  {
   "cell_type": "code",
   "execution_count": 6,
   "metadata": {},
   "outputs": [],
   "source": [
    "properties = combined.reset_index('timeagg')[['timeagg']]\n",
    "properties['sphere'] = properties.index.get_level_values('variable').to_series().apply(lambda s: [key for key in spherebook.keys() if s in spherebook[key]][0]).values\n",
    "properties['source'] = properties.index.get_level_values('variable').to_series().apply(lambda s: [key for key in sourcebook.keys() if s in sourcebook[key]][0]).values\n",
    "# Order of the final plot?\n",
    "properties = properties.sort_values(['sphere','timeagg','source']).set_index('timeagg', drop = False, append = True)\n",
    "properties.index = properties.index.reorder_levels(combined.index.names)"
   ]
  },
  {
   "cell_type": "code",
   "execution_count": 7,
   "metadata": {},
   "outputs": [],
   "source": [
    "scaled = pd.DataFrame(minmax_scale(combined), columns = combined.columns, index = combined.index)"
   ]
  },
  {
   "cell_type": "code",
   "execution_count": 8,
   "metadata": {},
   "outputs": [],
   "source": [
    "def plot_consecutive_categories(ax, data: pd.Series, cmap = 'RdYlGn'):\n",
    "    unique = list(np.unique(data))\n",
    "    category_colors = plt.get_cmap(cmap)(np.linspace(0.15,0.85,len(unique)))\n",
    "    breaks = data != data.shift()\n",
    "    consecutive_groups = breaks.cumsum()\n",
    "    consecutive_lengths = consecutive_groups.groupby(consecutive_groups).count()\n",
    "    consecutive_lengths.index = data.loc[breaks]\n",
    "    \n",
    "    start = 0\n",
    "    for label, n_consecutive in zip(consecutive_lengths.index, consecutive_lengths):\n",
    "        color = category_colors[unique.index(label)]\n",
    "        rects = ax.barh(y = 0.5, width = n_consecutive, left=start, height=1,\n",
    "                        label=label, color=color)\n",
    "        r, g, b, _ = color\n",
    "        text_color = 'white' if r * g * b < 0.5 else 'darkgrey'\n",
    "        ax.bar_label(rects, labels = [label], label_type='center', color=text_color)\n",
    "        start += n_consecutive\n",
    "    return ax"
   ]
  },
  {
   "cell_type": "code",
   "execution_count": 23,
   "metadata": {},
   "outputs": [
    {
     "data": {
      "image/png": "[encoded data removed]",
      "text/plain": [
       "<Figure size 1080x288 with 6 Axes>"
      ]
     },
     "metadata": {},
     "output_type": "display_data"
    }
   ],
   "source": [
    "fig = plt.figure(figsize=(15,4), facecolor = 'white')\n",
    "gs1 = GridSpec(nrows = 8, ncols = 50, hspace=0.2)\n",
    "ax_imp = fig.add_subplot(gs1[3:, :-1])\n",
    "ax_time = fig.add_subplot(gs1[2, :-1])\n",
    "ax_source = fig.add_subplot(gs1[0, :-1])\n",
    "ax_sphere = fig.add_subplot(gs1[1, :-1])\n",
    "\n",
    "ax_cbar_imp = fig.add_subplot(gs1[3:, -1:])\n",
    "ax_cbar_time = fig.add_subplot(gs1[:3, -1:])\n",
    "\n",
    "im = ax_imp.pcolor(scaled.loc[properties.index,:].T)\n",
    "ax_imp.set_yticks(np.arange(0.5, len(combined.columns)+0.5, 1))\n",
    "ax_imp.set_yticklabels(combined.columns.values)\n",
    "ax_imp.set_xlabel('Predictors')\n",
    "\n",
    "plot_consecutive_categories(ax = ax_sphere, data = properties['sphere'], cmap = 'Dark2') #'RdYlGn'\n",
    "ax_sphere.set_yticks([0.5])\n",
    "ax_sphere.set_yticklabels(['sphere'])\n",
    "ax_sphere.set_xlim(ax_imp.get_xlim())\n",
    "ax_sphere.get_xaxis().set_visible(False)\n",
    "\n",
    "plot_consecutive_categories(ax = ax_time, data = properties['timeagg'], cmap = 'cividis_r')\n",
    "ax_time.set_yticks([0.5])\n",
    "ax_time.set_yticklabels(['time scale'])\n",
    "ax_time.set_xlim(ax_imp.get_xlim())\n",
    "ax_time.get_xaxis().set_visible(False)\n",
    "\n",
    "plot_consecutive_categories(ax = ax_source, data = properties['source'], cmap = 'Set2')\n",
    "ax_source.set_yticks([0.5])\n",
    "ax_source.set_yticklabels(['source'])\n",
    "ax_source.set_xlim(ax_imp.get_xlim())\n",
    "ax_source.get_xaxis().set_visible(False)\n",
    "\n",
    "ax_cbar_time.set_visible(False)\n",
    "fig.colorbar(im, cax = ax_cbar_imp, label = 'scaled importance')\n",
    "\n",
    "#plt.savefig(os.path.expanduser('~/Pictures/predselec.png'), dpi = 160)\n",
    "plt.show()"
   ]
  },
  {
   "cell_type": "code",
   "execution_count": 10,
   "metadata": {},
   "outputs": [
    {
     "data": {
      "image/png": "[encoded data removed]",
      "text/plain": [
       "<Figure size 1224x180 with 5 Axes>"
      ]
     },
     "metadata": {},
     "output_type": "display_data"
    }
   ],
   "source": [
    "plt.rcParams['font.size'] = 14\n",
    "fig = plt.figure(figsize=(17,2.5), facecolor = 'white')\n",
    "gs1 = GridSpec(nrows = 4, ncols = 50, hspace=0.2)\n",
    "ax_imp = fig.add_subplot(gs1[3:, :-1])\n",
    "ax_time = fig.add_subplot(gs1[2, :-1])\n",
    "ax_source = fig.add_subplot(gs1[0, :-1])\n",
    "ax_sphere = fig.add_subplot(gs1[1, :-1])\n",
    "\n",
    "ax_cbar_imp = fig.add_subplot(gs1[:, -1:])\n",
    "\n",
    "im = ax_imp.pcolor(scaled.loc[properties.index,['multi']].T)\n",
    "ax_imp.set_yticks([0.5])\n",
    "ax_imp.set_yticklabels(['forward selection'])\n",
    "ax_imp.set_xlabel('Predictors')\n",
    "\n",
    "plot_consecutive_categories(ax = ax_sphere, data = properties['sphere'], cmap = 'Dark2') #'RdYlGn'\n",
    "ax_sphere.set_yticks([0.5])\n",
    "ax_sphere.set_yticklabels(['sphere'])\n",
    "ax_sphere.set_xlim(ax_imp.get_xlim())\n",
    "ax_sphere.get_xaxis().set_visible(False)\n",
    "\n",
    "plot_consecutive_categories(ax = ax_time, data = properties['timeagg'], cmap = 'cividis_r')\n",
    "ax_time.set_yticks([0.5])\n",
    "ax_time.set_yticklabels(['time scale [days]'])\n",
    "ax_time.set_xlim(ax_imp.get_xlim())\n",
    "ax_time.get_xaxis().set_visible(False)\n",
    "\n",
    "plot_consecutive_categories(ax = ax_source, data = properties['source'], cmap = 'Set2')\n",
    "ax_source.set_yticks([0.5])\n",
    "ax_source.set_yticklabels(['source'])\n",
    "ax_source.set_xlim(ax_imp.get_xlim())\n",
    "ax_source.get_xaxis().set_visible(False)\n",
    "\n",
    "fig.colorbar(im, cax = ax_cbar_imp, label = 'scaled rank')\n",
    "plt.savefig(os.path.expanduser('~/Pictures/predselec.png'), dpi = 160,pad_inches = 0.2)\n",
    "plt.show()"
   ]
  },
  {
   "cell_type": "markdown",
   "metadata": {},
   "source": [
    "### Choices for multiple predictands"
   ]
  },
  {
   "cell_type": "code",
   "execution_count": 88,
   "metadata": {},
   "outputs": [
    {
     "name": "stdout",
     "output_type": "stream",
     "text": [
      "reading full set, no objective selection\n",
      "fitting a new feature scaler\n",
      "fitting a new time scaler\n",
      "using a pre-fitted feature scaler\n"
     ]
    },
    {
     "name": "stderr",
     "output_type": "stream",
     "text": [
      "/usr/people/straaten/Documents/Hybrid/Hybrid/dataprep.py:416: FutureWarning: Support for multi-dimensional indexing (e.g. `obj[:, None]`) is deprecated and will be removed in a future version.  Convert to a numpy array before indexing instead.\n",
      "  time_test = time_scaler.transform(obs_test.index.get_level_values('time').to_julian_date()[:,np.newaxis])\n",
      "/usr/people/straaten/Documents/Weave/Weave/utils.py:154: FutureWarning: inplace is deprecated and will be removed in a future version.\n",
      "  index.set_levels(index.levels[i].astype(dtype), level = i, inplace = True) # inplace here only affects the just created restoration index, not the df itself\n",
      "/usr/people/straaten/Documents/Hybrid/Hybrid/dataprep.py:416: FutureWarning: Support for multi-dimensional indexing (e.g. `obj[:, None]`) is deprecated and will be removed in a future version.  Convert to a numpy array before indexing instead.\n",
      "  time_test = time_scaler.transform(obs_test.index.get_level_values('time').to_julian_date()[:,np.newaxis])\n"
     ]
    },
    {
     "name": "stdout",
     "output_type": "stream",
     "text": [
      "reading full set, no objective selection\n",
      "fitting a new feature scaler\n",
      "fitting a new time scaler\n",
      "using a pre-fitted feature scaler\n"
     ]
    },
    {
     "name": "stderr",
     "output_type": "stream",
     "text": [
      "/usr/people/straaten/Documents/Weave/Weave/utils.py:154: FutureWarning: inplace is deprecated and will be removed in a future version.\n",
      "  index.set_levels(index.levels[i].astype(dtype), level = i, inplace = True) # inplace here only affects the just created restoration index, not the df itself\n",
      "/usr/people/straaten/Documents/Hybrid/Hybrid/dataprep.py:416: FutureWarning: Support for multi-dimensional indexing (e.g. `obj[:, None]`) is deprecated and will be removed in a future version.  Convert to a numpy array before indexing instead.\n",
      "  time_test = time_scaler.transform(obs_test.index.get_level_values('time').to_julian_date()[:,np.newaxis])\n"
     ]
    },
    {
     "name": "stdout",
     "output_type": "stream",
     "text": [
      "reading full set, no objective selection\n",
      "fitting a new feature scaler\n",
      "fitting a new time scaler\n",
      "using a pre-fitted feature scaler\n"
     ]
    },
    {
     "name": "stderr",
     "output_type": "stream",
     "text": [
      "/usr/people/straaten/Documents/Weave/Weave/utils.py:154: FutureWarning: inplace is deprecated and will be removed in a future version.\n",
      "  index.set_levels(index.levels[i].astype(dtype), level = i, inplace = True) # inplace here only affects the just created restoration index, not the df itself\n",
      "/usr/people/straaten/Documents/Hybrid/Hybrid/dataprep.py:416: FutureWarning: Support for multi-dimensional indexing (e.g. `obj[:, None]`) is deprecated and will be removed in a future version.  Convert to a numpy array before indexing instead.\n",
      "  time_test = time_scaler.transform(obs_test.index.get_level_values('time').to_julian_date()[:,np.newaxis])\n"
     ]
    },
    {
     "name": "stdout",
     "output_type": "stream",
     "text": [
      "reading full set, no objective selection\n",
      "fitting a new feature scaler\n",
      "fitting a new time scaler\n",
      "using a pre-fitted feature scaler\n"
     ]
    },
    {
     "name": "stderr",
     "output_type": "stream",
     "text": [
      "/usr/people/straaten/Documents/Weave/Weave/utils.py:154: FutureWarning: inplace is deprecated and will be removed in a future version.\n",
      "  index.set_levels(index.levels[i].astype(dtype), level = i, inplace = True) # inplace here only affects the just created restoration index, not the df itself\n",
      "/usr/people/straaten/Documents/Hybrid/Hybrid/dataprep.py:416: FutureWarning: Support for multi-dimensional indexing (e.g. `obj[:, None]`) is deprecated and will be removed in a future version.  Convert to a numpy array before indexing instead.\n",
      "  time_test = time_scaler.transform(obs_test.index.get_level_values('time').to_julian_date()[:,np.newaxis])\n"
     ]
    },
    {
     "name": "stdout",
     "output_type": "stream",
     "text": [
      "reading full set, no objective selection\n",
      "fitting a new feature scaler\n",
      "fitting a new time scaler\n",
      "using a pre-fitted feature scaler\n"
     ]
    },
    {
     "name": "stderr",
     "output_type": "stream",
     "text": [
      "/usr/people/straaten/Documents/Weave/Weave/utils.py:154: FutureWarning: inplace is deprecated and will be removed in a future version.\n",
      "  index.set_levels(index.levels[i].astype(dtype), level = i, inplace = True) # inplace here only affects the just created restoration index, not the df itself\n",
      "/usr/people/straaten/Documents/Hybrid/Hybrid/dataprep.py:416: FutureWarning: Support for multi-dimensional indexing (e.g. `obj[:, None]`) is deprecated and will be removed in a future version.  Convert to a numpy array before indexing instead.\n",
      "  time_test = time_scaler.transform(obs_test.index.get_level_values('time').to_julian_date()[:,np.newaxis])\n"
     ]
    },
    {
     "name": "stdout",
     "output_type": "stream",
     "text": [
      "reading full set, no objective selection\n",
      "fitting a new feature scaler\n",
      "fitting a new time scaler\n",
      "using a pre-fitted feature scaler\n"
     ]
    },
    {
     "name": "stderr",
     "output_type": "stream",
     "text": [
      "/usr/people/straaten/Documents/Weave/Weave/utils.py:154: FutureWarning: inplace is deprecated and will be removed in a future version.\n",
      "  index.set_levels(index.levels[i].astype(dtype), level = i, inplace = True) # inplace here only affects the just created restoration index, not the df itself\n",
      "/usr/people/straaten/Documents/Hybrid/Hybrid/dataprep.py:416: FutureWarning: Support for multi-dimensional indexing (e.g. `obj[:, None]`) is deprecated and will be removed in a future version.  Convert to a numpy array before indexing instead.\n",
      "  time_test = time_scaler.transform(obs_test.index.get_level_values('time').to_julian_date()[:,np.newaxis])\n"
     ]
    },
    {
     "name": "stdout",
     "output_type": "stream",
     "text": [
      "reading full set, no objective selection\n",
      "fitting a new feature scaler\n",
      "fitting a new time scaler\n",
      "using a pre-fitted feature scaler\n"
     ]
    },
    {
     "name": "stderr",
     "output_type": "stream",
     "text": [
      "/usr/people/straaten/Documents/Weave/Weave/utils.py:154: FutureWarning: inplace is deprecated and will be removed in a future version.\n",
      "  index.set_levels(index.levels[i].astype(dtype), level = i, inplace = True) # inplace here only affects the just created restoration index, not the df itself\n",
      "/usr/people/straaten/Documents/Hybrid/Hybrid/dataprep.py:416: FutureWarning: Support for multi-dimensional indexing (e.g. `obj[:, None]`) is deprecated and will be removed in a future version.  Convert to a numpy array before indexing instead.\n",
      "  time_test = time_scaler.transform(obs_test.index.get_level_values('time').to_julian_date()[:,np.newaxis])\n"
     ]
    },
    {
     "name": "stdout",
     "output_type": "stream",
     "text": [
      "reading full set, no objective selection\n",
      "fitting a new feature scaler\n",
      "fitting a new time scaler\n",
      "using a pre-fitted feature scaler\n"
     ]
    },
    {
     "name": "stderr",
     "output_type": "stream",
     "text": [
      "/usr/people/straaten/Documents/Weave/Weave/utils.py:154: FutureWarning: inplace is deprecated and will be removed in a future version.\n",
      "  index.set_levels(index.levels[i].astype(dtype), level = i, inplace = True) # inplace here only affects the just created restoration index, not the df itself\n"
     ]
    },
    {
     "name": "stdout",
     "output_type": "stream",
     "text": [
      "reading full set, no objective selection\n",
      "fitting a new feature scaler\n",
      "fitting a new time scaler\n",
      "using a pre-fitted feature scaler\n"
     ]
    },
    {
     "name": "stderr",
     "output_type": "stream",
     "text": [
      "/usr/people/straaten/Documents/Hybrid/Hybrid/dataprep.py:416: FutureWarning: Support for multi-dimensional indexing (e.g. `obj[:, None]`) is deprecated and will be removed in a future version.  Convert to a numpy array before indexing instead.\n",
      "  time_test = time_scaler.transform(obs_test.index.get_level_values('time').to_julian_date()[:,np.newaxis])\n",
      "/usr/people/straaten/Documents/Weave/Weave/utils.py:154: FutureWarning: inplace is deprecated and will be removed in a future version.\n",
      "  index.set_levels(index.levels[i].astype(dtype), level = i, inplace = True) # inplace here only affects the just created restoration index, not the df itself\n",
      "/usr/people/straaten/Documents/Hybrid/Hybrid/dataprep.py:416: FutureWarning: Support for multi-dimensional indexing (e.g. `obj[:, None]`) is deprecated and will be removed in a future version.  Convert to a numpy array before indexing instead.\n",
      "  time_test = time_scaler.transform(obs_test.index.get_level_values('time').to_julian_date()[:,np.newaxis])\n"
     ]
    },
    {
     "name": "stdout",
     "output_type": "stream",
     "text": [
      "reading full set, no objective selection\n",
      "fitting a new feature scaler\n",
      "fitting a new time scaler\n",
      "using a pre-fitted feature scaler\n"
     ]
    },
    {
     "name": "stderr",
     "output_type": "stream",
     "text": [
      "/usr/people/straaten/Documents/Weave/Weave/utils.py:154: FutureWarning: inplace is deprecated and will be removed in a future version.\n",
      "  index.set_levels(index.levels[i].astype(dtype), level = i, inplace = True) # inplace here only affects the just created restoration index, not the df itself\n",
      "/usr/people/straaten/Documents/Hybrid/Hybrid/dataprep.py:416: FutureWarning: Support for multi-dimensional indexing (e.g. `obj[:, None]`) is deprecated and will be removed in a future version.  Convert to a numpy array before indexing instead.\n",
      "  time_test = time_scaler.transform(obs_test.index.get_level_values('time').to_julian_date()[:,np.newaxis])\n"
     ]
    },
    {
     "name": "stdout",
     "output_type": "stream",
     "text": [
      "reading full set, no objective selection\n",
      "fitting a new feature scaler\n",
      "fitting a new time scaler\n",
      "using a pre-fitted feature scaler\n"
     ]
    },
    {
     "name": "stderr",
     "output_type": "stream",
     "text": [
      "/usr/people/straaten/Documents/Weave/Weave/utils.py:154: FutureWarning: inplace is deprecated and will be removed in a future version.\n",
      "  index.set_levels(index.levels[i].astype(dtype), level = i, inplace = True) # inplace here only affects the just created restoration index, not the df itself\n",
      "/usr/people/straaten/Documents/Hybrid/Hybrid/dataprep.py:416: FutureWarning: Support for multi-dimensional indexing (e.g. `obj[:, None]`) is deprecated and will be removed in a future version.  Convert to a numpy array before indexing instead.\n",
      "  time_test = time_scaler.transform(obs_test.index.get_level_values('time').to_julian_date()[:,np.newaxis])\n"
     ]
    },
    {
     "name": "stdout",
     "output_type": "stream",
     "text": [
      "reading full set, no objective selection\n",
      "fitting a new feature scaler\n",
      "fitting a new time scaler\n",
      "using a pre-fitted feature scaler\n"
     ]
    },
    {
     "name": "stderr",
     "output_type": "stream",
     "text": [
      "/usr/people/straaten/Documents/Weave/Weave/utils.py:154: FutureWarning: inplace is deprecated and will be removed in a future version.\n",
      "  index.set_levels(index.levels[i].astype(dtype), level = i, inplace = True) # inplace here only affects the just created restoration index, not the df itself\n"
     ]
    }
   ],
   "source": [
    "# First tganoms\n",
    "basepath = Path('/nobackup/users/straaten/climpredsets/objective_balanced_cv/')\n",
    "timeaggs = [21,31]\n",
    "quantiles = [0.5, 0.66, 0.75, 0.9]\n",
    "tg_index = pd.MultiIndex.from_product([timeaggs, quantiles], names = ['timeagg','threshold'])\n",
    "total = []\n",
    "for timeagg, quantile in tg_index:\n",
    "    targetname = f'tg-anom_JJA_45r1_{timeagg}D-roll-mean_q{quantile}_sep12-15' \n",
    "    combined = load_combine_all(targetname, with_gmst=True)\n",
    "    combined.columns.name = 'measure'\n",
    "    total.append(combined)\n",
    "\n",
    "# Then tgex\n",
    "timeaggs = [21]\n",
    "thresholds = [5,7,9,11]\n",
    "tex_index = pd.MultiIndex.from_product([timeaggs, thresholds], names = ['timeagg','threshold'])\n",
    "for timeagg, threshold in tex_index:\n",
    "    targetname = f'tg-ex-q0.75-21D_ge{threshold}D_sep12-15'\n",
    "    combined = load_combine_all(targetname, with_gmst=True)\n",
    "    combined.columns.name = 'measure'\n",
    "    total.append(combined)\n",
    "total = pd.concat(total, axis = 1, keys = tg_index.append(tex_index))"
   ]
  },
  {
   "cell_type": "code",
   "execution_count": 75,
   "metadata": {
    "scrolled": true
   },
   "outputs": [
    {
     "data": {
      "image/png": "[encoded data removed]",
      "text/plain": [
       "<Figure size 432x288 with 1 Axes>"
      ]
     },
     "metadata": {
      "needs_background": "light"
     },
     "output_type": "display_data"
    }
   ],
   "source": [
    "scatter(total.sort_values((31,0.66,'j_measure'), ascending = False), xcol = (31,0.66,'j_measure'), ycol = (31,0.5,'j_measure'))\n",
    "plt.show()"
   ]
  },
  {
   "cell_type": "code",
   "execution_count": 109,
   "metadata": {},
   "outputs": [
    {
     "data": {
      "image/png": "[encoded data removed]",
      "text/plain": [
       "<Figure size 432x288 with 1 Axes>"
      ]
     },
     "metadata": {
      "needs_background": "light"
     },
     "output_type": "display_data"
    }
   ],
   "source": [
    "scatter(total.sort_values((31,0.5,'multi'), ascending = False), xcol = (31,0.5,'multi'), ycol = (21,,'multi'))\n",
    "plt.show()"
   ]
  },
  {
   "cell_type": "code",
   "execution_count": 91,
   "metadata": {},
   "outputs": [],
   "source": [
    "def cormatrix(no_missing: pd.DataFrame, title = ''):\n",
    "    fig, ax = plt.subplots()\n",
    "    im = ax.imshow(spearmanr(no_missing.values, axis = 0)[0], vmin = 0, vmax = 1)\n",
    "\n",
    "    # Show all ticks and label them with the respective list entries\n",
    "    ax.set_xticks(np.arange(len(no_missing.columns)))\n",
    "    ax.set_xticklabels(no_missing.columns.to_flat_index().values)\n",
    "    ax.set_yticks(np.arange(len(no_missing.columns)))\n",
    "    ax.set_yticklabels(no_missing.columns.to_flat_index().values)\n",
    "    ax.set_title(title)\n",
    "\n",
    "    # Rotate the tick labels and set their alignment.\n",
    "    plt.setp(ax.get_xticklabels(), rotation=45, ha=\"right\",\n",
    "             rotation_mode=\"anchor\")\n",
    "    return fig, ax"
   ]
  },
  {
   "cell_type": "code",
   "execution_count": 93,
   "metadata": {},
   "outputs": [
    {
     "data": {
      "text/plain": [
       "(<Figure size 432x288 with 1 Axes>, <AxesSubplot:>)"
      ]
     },
     "execution_count": 93,
     "metadata": {},
     "output_type": "execute_result"
    },
    {
     "data": {
      "image/png": "[encoded data removed]",
      "text/plain": [
       "<Figure size 432x288 with 1 Axes>"
      ]
     },
     "metadata": {
      "needs_background": "light"
     },
     "output_type": "display_data"
    }
   ],
   "source": [
    "cormatrix(total.drop(['single','multi'], axis = 1, level = -1))"
   ]
  },
  {
   "cell_type": "markdown",
   "metadata": {},
   "source": [
    "* High correspondence between perkins and jmeasure within a certain predictand\n",
    "* Tganom >q0.9 (especially 21 day) is more different from the others. More so than tgex > 11D\n",
    "* Inside tgex (5-9days) there is less correspondence than inside tganom (q0.5 - q0.75)"
   ]
  },
  {
   "cell_type": "code",
   "execution_count": 94,
   "metadata": {},
   "outputs": [
    {
     "data": {
      "text/plain": [
       "(<Figure size 432x288 with 1 Axes>, <AxesSubplot:>)"
      ]
     },
     "execution_count": 94,
     "metadata": {},
     "output_type": "execute_result"
    },
    {
     "data": {
      "image/png": "[encoded data removed]",
      "text/plain": [
       "<Figure size 432x288 with 1 Axes>"
      ]
     },
     "metadata": {
      "needs_background": "light"
     },
     "output_type": "display_data"
    }
   ],
   "source": [
    "cormatrix(total.loc[:,(slice(None),slice(None),'single')].dropna(axis = 0, how = 'all'))"
   ]
  },
  {
   "cell_type": "markdown",
   "metadata": {},
   "source": [
    "## Percentual improvement Leadtime 12-15\n",
    "New series with continuous projection instead of duplication. Also local 21day and 31day dynamic variables"
   ]
  },
  {
   "cell_type": "markdown",
   "metadata": {},
   "source": [
    "When requiring a 3 percent improvement in the score these would be the subsets coming from multipass.\n",
    "Note that sst.21.4.spatcov is not visible for tgex5 and tganom21, because it is the first predictor."
   ]
  },
  {
   "cell_type": "code",
   "execution_count": 77,
   "metadata": {},
   "outputs": [],
   "source": [
    "#basepath = Path('/nobackup/users/straaten/predsets/objective_balanced_cv/regimeshortscale/')\n",
    "#basepath = Path('/nobackup/users/straaten/predsets/objective_balanced_cv/')\n",
    "#basepath = Path('/nobackup/users/straaten/climpredsets/objective_balanced_cv/regimeshortscale/')\n",
    "basepath = Path('/nobackup/users/straaten/climpredsets/objective_balanced_cv/')\n",
    "timeaggs = [21,31]\n",
    "quantiles = [0.5, 0.66, 0.75, 0.9]\n",
    "index = pd.MultiIndex.from_product([timeaggs, quantiles], names = ['timeagg','quantile'])\n",
    "percentages = pd.Index(np.arange(3,8,1), name = 'min_improvement[%]')\n",
    "tganom_npreds = pd.DataFrame(0, index = index, columns = percentages)\n",
    "for timeagg, quantile in index:\n",
    "    imp = percentual_improvement(name = f'tg-anom_JJA_45r1_{timeagg}D-roll-mean_q{quantile}_sep12-15_multi_d20_b3', basepath=basepath)\n",
    "    greater = -imp.values[:,np.newaxis] >= percentages.values[np.newaxis,:]\n",
    "    shift = np.argmin(greater, axis = 0) # First occurrences of a False\n",
    "    tganom_npreds.loc[(timeagg,quantile),:] = shift + 1 # First predictor always taken into account (not in the percentual improvement list)\n",
    "    \n",
    "ndaythresh = np.arange(5,13,2, dtype = int)\n",
    "index = pd.Index(ndaythresh, name = 'ndaythresh')\n",
    "tgex_npreds = pd.DataFrame(0, index = index, columns = percentages)\n",
    "for nday in index:\n",
    "    imp = percentual_improvement(name = f'tg-ex-q0.75-21D_ge{nday}D_sep12-15_multi_d20_b3', basepath = basepath)\n",
    "    greater = -imp.values[:,np.newaxis] >= percentages.values[np.newaxis,:]\n",
    "    shift = np.argmin(greater, axis = 0) # First occurrences of a False\n",
    "    tgex_npreds.loc[nday,:] = shift + 1 "
   ]
  },
  {
   "cell_type": "code",
   "execution_count": 75,
   "metadata": {},
   "outputs": [
    {
     "data": {
      "text/html": [
       "<div>\n",
       "<style scoped>\n",
       "    .dataframe tbody tr th:only-of-type {\n",
       "        vertical-align: middle;\n",
       "    }\n",
       "\n",
       "    .dataframe tbody tr th {\n",
       "        vertical-align: top;\n",
       "    }\n",
       "\n",
       "    .dataframe thead th {\n",
       "        text-align: right;\n",
       "    }\n",
       "</style>\n",
       "<table border=\"1\" class=\"dataframe\">\n",
       "  <thead>\n",
       "    <tr style=\"text-align: right;\">\n",
       "      <th></th>\n",
       "      <th>min_improvement[%]</th>\n",
       "      <th>3</th>\n",
       "      <th>4</th>\n",
       "      <th>5</th>\n",
       "      <th>6</th>\n",
       "      <th>7</th>\n",
       "    </tr>\n",
       "    <tr>\n",
       "      <th>timeagg</th>\n",
       "      <th>quantile</th>\n",
       "      <th></th>\n",
       "      <th></th>\n",
       "      <th></th>\n",
       "      <th></th>\n",
       "      <th></th>\n",
       "    </tr>\n",
       "  </thead>\n",
       "  <tbody>\n",
       "    <tr>\n",
       "      <th rowspan=\"4\" valign=\"top\">21</th>\n",
       "      <th>0.50</th>\n",
       "      <td>4</td>\n",
       "      <td>4</td>\n",
       "      <td>3</td>\n",
       "      <td>3</td>\n",
       "      <td>3</td>\n",
       "    </tr>\n",
       "    <tr>\n",
       "      <th>0.66</th>\n",
       "      <td>5</td>\n",
       "      <td>3</td>\n",
       "      <td>3</td>\n",
       "      <td>2</td>\n",
       "      <td>2</td>\n",
       "    </tr>\n",
       "    <tr>\n",
       "      <th>0.75</th>\n",
       "      <td>7</td>\n",
       "      <td>3</td>\n",
       "      <td>3</td>\n",
       "      <td>3</td>\n",
       "      <td>3</td>\n",
       "    </tr>\n",
       "    <tr>\n",
       "      <th>0.90</th>\n",
       "      <td>16</td>\n",
       "      <td>15</td>\n",
       "      <td>4</td>\n",
       "      <td>4</td>\n",
       "      <td>4</td>\n",
       "    </tr>\n",
       "    <tr>\n",
       "      <th rowspan=\"4\" valign=\"top\">31</th>\n",
       "      <th>0.50</th>\n",
       "      <td>5</td>\n",
       "      <td>3</td>\n",
       "      <td>3</td>\n",
       "      <td>3</td>\n",
       "      <td>2</td>\n",
       "    </tr>\n",
       "    <tr>\n",
       "      <th>0.66</th>\n",
       "      <td>5</td>\n",
       "      <td>5</td>\n",
       "      <td>3</td>\n",
       "      <td>3</td>\n",
       "      <td>2</td>\n",
       "    </tr>\n",
       "    <tr>\n",
       "      <th>0.75</th>\n",
       "      <td>7</td>\n",
       "      <td>5</td>\n",
       "      <td>4</td>\n",
       "      <td>4</td>\n",
       "      <td>2</td>\n",
       "    </tr>\n",
       "    <tr>\n",
       "      <th>0.90</th>\n",
       "      <td>3</td>\n",
       "      <td>3</td>\n",
       "      <td>3</td>\n",
       "      <td>2</td>\n",
       "      <td>2</td>\n",
       "    </tr>\n",
       "  </tbody>\n",
       "</table>\n",
       "</div>"
      ],
      "text/plain": [
       "min_improvement[%]   3   4  5  6  7\n",
       "timeagg quantile                   \n",
       "21      0.50         4   4  3  3  3\n",
       "        0.66         5   3  3  2  2\n",
       "        0.75         7   3  3  3  3\n",
       "        0.90        16  15  4  4  4\n",
       "31      0.50         5   3  3  3  2\n",
       "        0.66         5   5  3  3  2\n",
       "        0.75         7   5  4  4  2\n",
       "        0.90         3   3  3  2  2"
      ]
     },
     "execution_count": 75,
     "metadata": {},
     "output_type": "execute_result"
    }
   ],
   "source": [
    "tganom_npreds"
   ]
  },
  {
   "cell_type": "code",
   "execution_count": 78,
   "metadata": {},
   "outputs": [
    {
     "data": {
      "text/html": [
       "<div>\n",
       "<style scoped>\n",
       "    .dataframe tbody tr th:only-of-type {\n",
       "        vertical-align: middle;\n",
       "    }\n",
       "\n",
       "    .dataframe tbody tr th {\n",
       "        vertical-align: top;\n",
       "    }\n",
       "\n",
       "    .dataframe thead th {\n",
       "        text-align: right;\n",
       "    }\n",
       "</style>\n",
       "<table border=\"1\" class=\"dataframe\">\n",
       "  <thead>\n",
       "    <tr style=\"text-align: right;\">\n",
       "      <th></th>\n",
       "      <th>min_improvement[%]</th>\n",
       "      <th>3</th>\n",
       "      <th>4</th>\n",
       "      <th>5</th>\n",
       "      <th>6</th>\n",
       "      <th>7</th>\n",
       "    </tr>\n",
       "    <tr>\n",
       "      <th>timeagg</th>\n",
       "      <th>quantile</th>\n",
       "      <th></th>\n",
       "      <th></th>\n",
       "      <th></th>\n",
       "      <th></th>\n",
       "      <th></th>\n",
       "    </tr>\n",
       "  </thead>\n",
       "  <tbody>\n",
       "    <tr>\n",
       "      <th rowspan=\"4\" valign=\"top\">21</th>\n",
       "      <th>0.50</th>\n",
       "      <td>4</td>\n",
       "      <td>3</td>\n",
       "      <td>3</td>\n",
       "      <td>3</td>\n",
       "      <td>2</td>\n",
       "    </tr>\n",
       "    <tr>\n",
       "      <th>0.66</th>\n",
       "      <td>4</td>\n",
       "      <td>4</td>\n",
       "      <td>3</td>\n",
       "      <td>2</td>\n",
       "      <td>2</td>\n",
       "    </tr>\n",
       "    <tr>\n",
       "      <th>0.75</th>\n",
       "      <td>4</td>\n",
       "      <td>4</td>\n",
       "      <td>4</td>\n",
       "      <td>4</td>\n",
       "      <td>4</td>\n",
       "    </tr>\n",
       "    <tr>\n",
       "      <th>0.90</th>\n",
       "      <td>6</td>\n",
       "      <td>6</td>\n",
       "      <td>4</td>\n",
       "      <td>4</td>\n",
       "      <td>4</td>\n",
       "    </tr>\n",
       "    <tr>\n",
       "      <th rowspan=\"4\" valign=\"top\">31</th>\n",
       "      <th>0.50</th>\n",
       "      <td>8</td>\n",
       "      <td>4</td>\n",
       "      <td>3</td>\n",
       "      <td>2</td>\n",
       "      <td>2</td>\n",
       "    </tr>\n",
       "    <tr>\n",
       "      <th>0.66</th>\n",
       "      <td>7</td>\n",
       "      <td>6</td>\n",
       "      <td>3</td>\n",
       "      <td>3</td>\n",
       "      <td>2</td>\n",
       "    </tr>\n",
       "    <tr>\n",
       "      <th>0.75</th>\n",
       "      <td>6</td>\n",
       "      <td>6</td>\n",
       "      <td>4</td>\n",
       "      <td>3</td>\n",
       "      <td>3</td>\n",
       "    </tr>\n",
       "    <tr>\n",
       "      <th>0.90</th>\n",
       "      <td>13</td>\n",
       "      <td>5</td>\n",
       "      <td>2</td>\n",
       "      <td>2</td>\n",
       "      <td>2</td>\n",
       "    </tr>\n",
       "  </tbody>\n",
       "</table>\n",
       "</div>"
      ],
      "text/plain": [
       "min_improvement[%]   3  4  5  6  7\n",
       "timeagg quantile                  \n",
       "21      0.50         4  3  3  3  2\n",
       "        0.66         4  4  3  2  2\n",
       "        0.75         4  4  4  4  4\n",
       "        0.90         6  6  4  4  4\n",
       "31      0.50         8  4  3  2  2\n",
       "        0.66         7  6  3  3  2\n",
       "        0.75         6  6  4  3  3\n",
       "        0.90        13  5  2  2  2"
      ]
     },
     "execution_count": 78,
     "metadata": {},
     "output_type": "execute_result"
    }
   ],
   "source": [
    "tganom_npreds"
   ]
  },
  {
   "cell_type": "markdown",
   "metadata": {},
   "source": [
    "### Change of best performing results with different crossval split\n",
    "31 day > q0.5 different test and trainval split.\n",
    "nordic soilm stays in the best set. sst and t850 disappear. Local dynamical soilmoisture enters the picture as 3rd predictor."
   ]
  },
  {
   "cell_type": "code",
   "execution_count": 64,
   "metadata": {},
   "outputs": [
    {
     "data": {
      "text/plain": [
       "MultiIndex([(   'sst_nhplus', 21, 4, 'spatcov'),\n",
       "            ('transp_europe', 31, 1, 'spatcov'),\n",
       "            ( 'siconc_nhmin', 11, 1,    'mean'),\n",
       "            ( 't850_nhblock', 11, 0, 'spatcov'),\n",
       "            (   'sst_nhplus',  5, 2,    'mean'),\n",
       "            ( 'siconc_nhmin', 31, 0,    'mean'),\n",
       "            ('transp_europe', 21, 2,    'mean'),\n",
       "            (   'sst_nhplus',  5, 1,    'mean'),\n",
       "            ( 't850_nhblock', 11, 1,    'mean'),\n",
       "            (   'sst_nhplus', 11, 5, 'spatcov'),\n",
       "            ('transp_europe', 21, 2, 'spatcov'),\n",
       "            (   'tcc_europe', 31, 2,    'mean'),\n",
       "            ('swvl13_europe', 11, 1,    'mean'),\n",
       "            ( 't850_nhblock', 31, 2, 'spatcov'),\n",
       "            ('swvl13_europe', 21, 1,    'mean'),\n",
       "            ( 't850_nhblock', 11, 0,    'mean'),\n",
       "            ('swvl13_europe', 31, 0,    'mean'),\n",
       "            (   'sst_nhplus',  7, 0, 'spatcov'),\n",
       "            ( 't850_nhblock', 15, 1, 'spatcov'),\n",
       "            ( 'siconc_nhmin', 11, 1, 'spatcov')],\n",
       "           names=['variable', 'timeagg', 'clustid', 'metric'])"
      ]
     },
     "execution_count": 64,
     "metadata": {},
     "output_type": "execute_result"
    }
   ],
   "source": [
    "basepath = Path('/nobackup/users/straaten/predsets/objective_balanced_cv/regimeshortscale/')\n",
    "name = 'tg-anom_JJA_45r1_31D-roll-mean_q0.9_sep12-15_multi_d20_b3'\n",
    "imp = percentual_improvement(name = name, basepath=basepath)\n",
    "load_sequential(name = name, basepath = basepath).columns"
   ]
  },
  {
   "cell_type": "code",
   "execution_count": 65,
   "metadata": {
    "scrolled": true
   },
   "outputs": [
    {
     "data": {
      "text/plain": [
       "MultiIndex([(   'sst_nhplus', 21, 4, 'spatcov'),\n",
       "            ('transp_europe', 31, 1, 'spatcov'),\n",
       "            ( 'siconc_nhmin', 11, 1,    'mean'),\n",
       "            (   'tcc_europe', 31, 2,    'mean'),\n",
       "            ('transp_europe', 21, 2, 'spatcov'),\n",
       "            (          'mjo',  1, 1,    'rmm2'),\n",
       "            ( 'siconc_nhmin', 31, 1, 'spatcov'),\n",
       "            ( 't850_nhblock', 11, 0,    'mean'),\n",
       "            ('transp_europe', 31, 0, 'spatcov'),\n",
       "            (   'sst_nhplus', 11, 3, 'spatcov'),\n",
       "            (          'sst', 21, 3,    'mean'),\n",
       "            (            'z', 31, 6,    'mean'),\n",
       "            ( 't850_nhblock', 31, 2,    'mean'),\n",
       "            ('swvl13_europe', 15, 1, 'spatcov'),\n",
       "            ('transp_europe',  5, 0, 'spatcov'),\n",
       "            (            'z', 21, 6,    'mean'),\n",
       "            (  'snowc_nhmin', 31, 1,    'mean'),\n",
       "            ( 't850_nhblock', 11, 1, 'spatcov'),\n",
       "            ( 'swvl4_europe', 21, 0, 'spatcov'),\n",
       "            (  'z300_nhnorm', 15, 0, 'spatcov')],\n",
       "           names=['variable', 'timeagg', 'clustid', 'metric'])"
      ]
     },
     "execution_count": 65,
     "metadata": {},
     "output_type": "execute_result"
    }
   ],
   "source": [
    "basepath = Path('/nobackup/users/straaten/predsets/objective_balanced_cv/')\n",
    "imp = percentual_improvement(name = name, basepath=basepath)\n",
    "load_sequential(name = name, basepath = basepath).columns"
   ]
  },
  {
   "cell_type": "markdown",
   "metadata": {},
   "source": [
    "### Corrspondance between two modulating predictors"
   ]
  },
  {
   "cell_type": "code",
   "execution_count": 7,
   "metadata": {},
   "outputs": [],
   "source": [
    "predpath = Path('/nobackup/users/straaten/predsets/full/tg-anom_JJA_45r1_31D-roll-mean_q0.5_sep12-15_predictors.h5')\n",
    "preds = pd.read_hdf(predpath)"
   ]
  },
  {
   "cell_type": "code",
   "execution_count": 16,
   "metadata": {},
   "outputs": [],
   "source": [
    "from scipy.stats import spearmanr"
   ]
  },
  {
   "cell_type": "code",
   "execution_count": 15,
   "metadata": {},
   "outputs": [
    {
     "data": {
      "text/plain": [
       "array([[ 1.        , -0.44298075],\n",
       "       [-0.44298075,  1.        ]])"
      ]
     },
     "execution_count": 15,
     "metadata": {},
     "output_type": "execute_result"
    }
   ],
   "source": [
    "np.corrcoef(preds.loc[:,[('swvl13_europe',11,0,'mean'),('sst',31,1,'mean')]].T)"
   ]
  },
  {
   "cell_type": "code",
   "execution_count": 17,
   "metadata": {},
   "outputs": [
    {
     "data": {
      "text/plain": [
       "SpearmanrResult(correlation=-0.42909165544826666, pvalue=1.9343474150781685e-102)"
      ]
     },
     "execution_count": 17,
     "metadata": {},
     "output_type": "execute_result"
    }
   ],
   "source": [
    "spearmanr(preds.loc[:,[('swvl13_europe',11,0,'mean'),('sst',31,1,'mean')]])"
   ]
  },
  {
   "cell_type": "code",
   "execution_count": null,
   "metadata": {},
   "outputs": [],
   "source": []
  }
 ],
 "metadata": {
  "kernelspec": {
   "display_name": "DLVENV",
   "language": "python",
   "name": "dlvenv"
  },
  "language_info": {
   "codemirror_mode": {
    "name": "ipython",
    "version": 3
   },
   "file_extension": ".py",
   "mimetype": "text/x-python",
   "name": "python",
   "nbconvert_exporter": "python",
   "pygments_lexer": "ipython3",
   "version": "3.10.2"
  }
 },
 "nbformat": 4,
 "nbformat_minor": 4
}
