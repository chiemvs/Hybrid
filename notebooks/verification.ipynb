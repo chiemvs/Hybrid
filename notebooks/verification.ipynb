{
 "cells": [
  {
   "cell_type": "code",
   "execution_count": 39,
   "metadata": {},
   "outputs": [],
   "source": [
    "import sys\n",
    "import os\n",
    "import numpy as np\n",
    "import xarray as xr\n",
    "import tensorflow as tf\n",
    "import pandas as pd\n",
    "import matplotlib.pyplot as plt\n",
    "\n",
    "from pathlib import Path\n",
    "from sklearn.metrics import brier_score_loss\n",
    "from sklearn.linear_model import LogisticRegression\n",
    "\n",
    "sys.path.append(os.path.expanduser('~/Documents/Hybrid/'))\n",
    "from Hybrid.neuralnet import construct_modeldev_model, earlystop, BrierScore, ConstructorAndCompiler\n",
    "#from Hybrid.optimization import multi_fit_multi_eval, multi_fit_single_eval, ranked_prob_score\n",
    "from Hybrid.dataprep import test_trainval_split, multiclass_log_forecastprob, singleclass_regression, multiclass_logistic_regression_coefficients, scale_other_features\n",
    "from Hybrid.interpretation import combine_input_output, composite_extremes\n",
    "\n",
    "sys.path.append(os.path.expanduser('~/Documents/Weave/'))\n",
    "from Weave.utils import reliability_plot\n",
    "\n",
    "crossval = True # Only for the trainvalsplit.\n",
    "nfolds = 3\n",
    "balanced = True\n",
    "focus_class = -1 # Index of the class to be scored and benchmarked through bss\n",
    "\n",
    "name = 'tg-ex-q0.75-21D_ge7D_sep12-15'\n",
    "#name = 'tg-ex-q0.75-21D_ge7D_sep19-21'\n",
    "name2 = 'tg-anom_JJA_45r1_31D-roll-mean_sep12-15'\n",
    "\n",
    "predictor_dir = Path('/nobackup/users/straaten/predsets/objective_balanced_cv/no_pdomjo/') # Can change to the objectively selected sets\n",
    "#predictor_dir = Path('/nobackup/users/straaten/predsets/objective_balanced_cv/emp_duplicated/') # Can change to the objectively selected sets\n",
    "for_obs_dir = Path('/nobackup/users/straaten/predsets/full/') \n",
    "\n",
    "predictors = pd.read_hdf(predictor_dir / f'{name2}_multi_d20_b3_predictors.h5', key = 'input').iloc[:,:8]\n",
    "forc = pd.read_hdf(for_obs_dir / f'{name}_forc.h5', key = 'input')\n",
    "obs= pd.read_hdf(for_obs_dir / f'{name}_obs.h5', key = 'target')"
   ]
  },
  {
   "cell_type": "code",
   "execution_count": 40,
   "metadata": {},
   "outputs": [
    {
     "name": "stdout",
     "output_type": "stream",
     "text": [
      "fitting a new feature scaler\n"
     ]
    }
   ],
   "source": [
    "# Preparing only the trainval set.\n",
    "X_test, X_trainval, generator = test_trainval_split(predictors, crossval = crossval, nfolds = nfolds, balanced = balanced)\n",
    "forc_test, forc_trainval, generator = test_trainval_split(forc, crossval = crossval, nfolds = nfolds, balanced = balanced)\n",
    "obs_test, obs_trainval, generator = test_trainval_split(obs, crossval = crossval, nfolds = nfolds, balanced = balanced)\n",
    "\n",
    "feature_input, feature_scaler = scale_other_features(X_trainval)\n",
    "raw_predictions = multiclass_log_forecastprob(forc_trainval)\n",
    "obs_input = obs_trainval.values"
   ]
  },
  {
   "cell_type": "code",
   "execution_count": 41,
   "metadata": {},
   "outputs": [
    {
     "data": {
      "text/html": [
       "<div>\n",
       "<style scoped>\n",
       "    .dataframe tbody tr th:only-of-type {\n",
       "        vertical-align: middle;\n",
       "    }\n",
       "\n",
       "    .dataframe tbody tr th {\n",
       "        vertical-align: top;\n",
       "    }\n",
       "\n",
       "    .dataframe thead tr th {\n",
       "        text-align: left;\n",
       "    }\n",
       "\n",
       "    .dataframe thead tr:last-of-type th {\n",
       "        text-align: right;\n",
       "    }\n",
       "</style>\n",
       "<table border=\"1\" class=\"dataframe\">\n",
       "  <thead>\n",
       "    <tr>\n",
       "      <th></th>\n",
       "      <th>variable</th>\n",
       "      <th>sst_nhplus</th>\n",
       "      <th>siconc_nhmin</th>\n",
       "      <th>transp_europe</th>\n",
       "      <th>swvl13_europe</th>\n",
       "      <th>sst</th>\n",
       "      <th>swvl4_europe</th>\n",
       "      <th>sst_nhplus</th>\n",
       "      <th>snowc_nhmin</th>\n",
       "    </tr>\n",
       "    <tr>\n",
       "      <th></th>\n",
       "      <th>timeagg</th>\n",
       "      <th>21</th>\n",
       "      <th>31</th>\n",
       "      <th>31</th>\n",
       "      <th>15</th>\n",
       "      <th>21</th>\n",
       "      <th>21</th>\n",
       "      <th>21</th>\n",
       "      <th>31</th>\n",
       "    </tr>\n",
       "    <tr>\n",
       "      <th></th>\n",
       "      <th>clustid</th>\n",
       "      <th>4</th>\n",
       "      <th>0</th>\n",
       "      <th>1</th>\n",
       "      <th>0</th>\n",
       "      <th>3</th>\n",
       "      <th>0</th>\n",
       "      <th>3</th>\n",
       "      <th>1</th>\n",
       "    </tr>\n",
       "    <tr>\n",
       "      <th></th>\n",
       "      <th>metric</th>\n",
       "      <th>spatcov</th>\n",
       "      <th>mean</th>\n",
       "      <th>spatcov</th>\n",
       "      <th>mean</th>\n",
       "      <th>mean</th>\n",
       "      <th>spatcov</th>\n",
       "      <th>mean</th>\n",
       "      <th>mean</th>\n",
       "    </tr>\n",
       "    <tr>\n",
       "      <th>time</th>\n",
       "      <th>separation</th>\n",
       "      <th></th>\n",
       "      <th></th>\n",
       "      <th></th>\n",
       "      <th></th>\n",
       "      <th></th>\n",
       "      <th></th>\n",
       "      <th></th>\n",
       "      <th></th>\n",
       "    </tr>\n",
       "  </thead>\n",
       "  <tbody>\n",
       "    <tr>\n",
       "      <th>1998-06-19</th>\n",
       "      <th>12</th>\n",
       "      <td>-0.051529</td>\n",
       "      <td>-0.020622</td>\n",
       "      <td>-0.000023</td>\n",
       "      <td>0.030098</td>\n",
       "      <td>-0.205494</td>\n",
       "      <td>-0.000024</td>\n",
       "      <td>0.311454</td>\n",
       "      <td>5.132719</td>\n",
       "    </tr>\n",
       "    <tr>\n",
       "      <th>1998-06-20</th>\n",
       "      <th>13</th>\n",
       "      <td>-0.050145</td>\n",
       "      <td>-0.020029</td>\n",
       "      <td>-0.000028</td>\n",
       "      <td>0.030625</td>\n",
       "      <td>-0.189208</td>\n",
       "      <td>-0.000065</td>\n",
       "      <td>0.330307</td>\n",
       "      <td>5.117877</td>\n",
       "    </tr>\n",
       "    <tr>\n",
       "      <th>1998-06-21</th>\n",
       "      <th>14</th>\n",
       "      <td>-0.049024</td>\n",
       "      <td>-0.018291</td>\n",
       "      <td>-0.000032</td>\n",
       "      <td>0.030837</td>\n",
       "      <td>-0.174136</td>\n",
       "      <td>-0.000110</td>\n",
       "      <td>0.347042</td>\n",
       "      <td>5.077966</td>\n",
       "    </tr>\n",
       "    <tr>\n",
       "      <th>1998-06-22</th>\n",
       "      <th>15</th>\n",
       "      <td>-0.048194</td>\n",
       "      <td>-0.015829</td>\n",
       "      <td>-0.000036</td>\n",
       "      <td>0.030770</td>\n",
       "      <td>-0.168700</td>\n",
       "      <td>-0.000157</td>\n",
       "      <td>0.360521</td>\n",
       "      <td>4.997937</td>\n",
       "    </tr>\n",
       "    <tr>\n",
       "      <th>1998-06-23</th>\n",
       "      <th>12</th>\n",
       "      <td>-0.047589</td>\n",
       "      <td>-0.013856</td>\n",
       "      <td>-0.000039</td>\n",
       "      <td>0.030638</td>\n",
       "      <td>0.375809</td>\n",
       "      <td>-0.000207</td>\n",
       "      <td>0.369650</td>\n",
       "      <td>4.890918</td>\n",
       "    </tr>\n",
       "    <tr>\n",
       "      <th>...</th>\n",
       "      <th>...</th>\n",
       "      <td>...</td>\n",
       "      <td>...</td>\n",
       "      <td>...</td>\n",
       "      <td>...</td>\n",
       "      <td>...</td>\n",
       "      <td>...</td>\n",
       "      <td>...</td>\n",
       "      <td>...</td>\n",
       "    </tr>\n",
       "    <tr>\n",
       "      <th>2019-06-21</th>\n",
       "      <th>15</th>\n",
       "      <td>-0.009250</td>\n",
       "      <td>-0.041239</td>\n",
       "      <td>0.000038</td>\n",
       "      <td>-0.012639</td>\n",
       "      <td>-0.022952</td>\n",
       "      <td>-0.000225</td>\n",
       "      <td>0.187528</td>\n",
       "      <td>-7.076650</td>\n",
       "    </tr>\n",
       "    <tr>\n",
       "      <th>2019-06-22</th>\n",
       "      <th>12</th>\n",
       "      <td>-0.009223</td>\n",
       "      <td>-0.041852</td>\n",
       "      <td>0.000036</td>\n",
       "      <td>-0.013661</td>\n",
       "      <td>0.807073</td>\n",
       "      <td>-0.000232</td>\n",
       "      <td>0.185681</td>\n",
       "      <td>-7.307442</td>\n",
       "    </tr>\n",
       "    <tr>\n",
       "      <th>2019-06-23</th>\n",
       "      <th>13</th>\n",
       "      <td>-0.009382</td>\n",
       "      <td>-0.042626</td>\n",
       "      <td>0.000033</td>\n",
       "      <td>-0.014711</td>\n",
       "      <td>0.872449</td>\n",
       "      <td>-0.000237</td>\n",
       "      <td>0.186895</td>\n",
       "      <td>-7.472881</td>\n",
       "    </tr>\n",
       "    <tr>\n",
       "      <th>2019-06-24</th>\n",
       "      <th>14</th>\n",
       "      <td>-0.009428</td>\n",
       "      <td>-0.043707</td>\n",
       "      <td>0.000033</td>\n",
       "      <td>-0.015818</td>\n",
       "      <td>0.757497</td>\n",
       "      <td>-0.000241</td>\n",
       "      <td>0.187755</td>\n",
       "      <td>-7.663889</td>\n",
       "    </tr>\n",
       "    <tr>\n",
       "      <th>2019-06-25</th>\n",
       "      <th>15</th>\n",
       "      <td>-0.009570</td>\n",
       "      <td>-0.044988</td>\n",
       "      <td>0.000032</td>\n",
       "      <td>-0.017018</td>\n",
       "      <td>0.769886</td>\n",
       "      <td>-0.000242</td>\n",
       "      <td>0.187386</td>\n",
       "      <td>-7.807000</td>\n",
       "    </tr>\n",
       "  </tbody>\n",
       "</table>\n",
       "<p>2272 rows × 8 columns</p>\n",
       "</div>"
      ],
      "text/plain": [
       "variable              sst_nhplus siconc_nhmin transp_europe swvl13_europe  \\\n",
       "timeagg                       21           31            31            15   \n",
       "clustid                        4            0             1             0   \n",
       "metric                   spatcov         mean       spatcov          mean   \n",
       "time       separation                                                       \n",
       "1998-06-19 12          -0.051529    -0.020622     -0.000023      0.030098   \n",
       "1998-06-20 13          -0.050145    -0.020029     -0.000028      0.030625   \n",
       "1998-06-21 14          -0.049024    -0.018291     -0.000032      0.030837   \n",
       "1998-06-22 15          -0.048194    -0.015829     -0.000036      0.030770   \n",
       "1998-06-23 12          -0.047589    -0.013856     -0.000039      0.030638   \n",
       "...                          ...          ...           ...           ...   \n",
       "2019-06-21 15          -0.009250    -0.041239      0.000038     -0.012639   \n",
       "2019-06-22 12          -0.009223    -0.041852      0.000036     -0.013661   \n",
       "2019-06-23 13          -0.009382    -0.042626      0.000033     -0.014711   \n",
       "2019-06-24 14          -0.009428    -0.043707      0.000033     -0.015818   \n",
       "2019-06-25 15          -0.009570    -0.044988      0.000032     -0.017018   \n",
       "\n",
       "variable                    sst swvl4_europe sst_nhplus snowc_nhmin  \n",
       "timeagg                      21           21         21          31  \n",
       "clustid                       3            0          3           1  \n",
       "metric                     mean      spatcov       mean        mean  \n",
       "time       separation                                                \n",
       "1998-06-19 12         -0.205494    -0.000024   0.311454    5.132719  \n",
       "1998-06-20 13         -0.189208    -0.000065   0.330307    5.117877  \n",
       "1998-06-21 14         -0.174136    -0.000110   0.347042    5.077966  \n",
       "1998-06-22 15         -0.168700    -0.000157   0.360521    4.997937  \n",
       "1998-06-23 12          0.375809    -0.000207   0.369650    4.890918  \n",
       "...                         ...          ...        ...         ...  \n",
       "2019-06-21 15         -0.022952    -0.000225   0.187528   -7.076650  \n",
       "2019-06-22 12          0.807073    -0.000232   0.185681   -7.307442  \n",
       "2019-06-23 13          0.872449    -0.000237   0.186895   -7.472881  \n",
       "2019-06-24 14          0.757497    -0.000241   0.187755   -7.663889  \n",
       "2019-06-25 15          0.769886    -0.000242   0.187386   -7.807000  \n",
       "\n",
       "[2272 rows x 8 columns]"
      ]
     },
     "execution_count": 41,
     "metadata": {},
     "output_type": "execute_result"
    }
   ],
   "source": [
    "predictors"
   ]
  },
  {
   "cell_type": "code",
   "execution_count": 42,
   "metadata": {},
   "outputs": [],
   "source": [
    "# Setting up the model\n",
    "construct_kwargs = dict(n_classes = obs_trainval.shape[-1],\n",
    "        n_hidden_layers= 1,\n",
    "        n_features = feature_input.shape[-1],\n",
    "        n_hiddenlayer_nodes = 4)\n",
    "\n",
    "compile_kwargs = dict(optimizer=tf.keras.optimizers.Adam(learning_rate=0.001),\n",
    "        metrics = ['accuracy',BrierScore(class_index = focus_class)])\n",
    "\n",
    "constructor = ConstructorAndCompiler(construct_modeldev_model, construct_kwargs, compile_kwargs)\n",
    "\n",
    "fit_kwargs = dict(batch_size = 32, epochs = 200, shuffle = True, callbacks = [earlystop(patience = 7, monitor = 'val_loss')])"
   ]
  },
  {
   "cell_type": "code",
   "execution_count": 43,
   "metadata": {
    "collapsed": true
   },
   "outputs": [
    {
     "name": "stdout",
     "output_type": "stream",
     "text": [
      "Epoch 1/200\n",
      "36/36 [==============================] - 0s 5ms/step - loss: 0.5898 - accuracy: 0.7014 - brier: 0.1995 - val_loss: 0.6786 - val_accuracy: 0.6328 - val_brier: 0.2325\n",
      "Epoch 2/200\n",
      "36/36 [==============================] - 0s 2ms/step - loss: 0.5886 - accuracy: 0.7014 - brier: 0.1988 - val_loss: 0.6756 - val_accuracy: 0.6328 - val_brier: 0.2309\n",
      "Epoch 3/200\n",
      "36/36 [==============================] - 0s 1ms/step - loss: 0.5874 - accuracy: 0.7014 - brier: 0.1980 - val_loss: 0.6714 - val_accuracy: 0.6328 - val_brier: 0.2288\n",
      "Epoch 4/200\n",
      "36/36 [==============================] - 0s 2ms/step - loss: 0.5852 - accuracy: 0.7014 - brier: 0.1969 - val_loss: 0.6687 - val_accuracy: 0.6328 - val_brier: 0.2276\n",
      "Epoch 5/200\n",
      "36/36 [==============================] - 0s 1ms/step - loss: 0.5821 - accuracy: 0.7014 - brier: 0.1955 - val_loss: 0.6666 - val_accuracy: 0.6328 - val_brier: 0.2267\n",
      "Epoch 6/200\n",
      "36/36 [==============================] - 0s 1ms/step - loss: 0.5774 - accuracy: 0.7109 - brier: 0.1934 - val_loss: 0.6646 - val_accuracy: 0.6380 - val_brier: 0.2262\n",
      "Epoch 7/200\n",
      "36/36 [==============================] - 0s 2ms/step - loss: 0.5715 - accuracy: 0.7135 - brier: 0.1911 - val_loss: 0.6648 - val_accuracy: 0.6445 - val_brier: 0.2269\n",
      "Epoch 8/200\n",
      "36/36 [==============================] - 0s 1ms/step - loss: 0.5644 - accuracy: 0.7240 - brier: 0.1880 - val_loss: 0.6586 - val_accuracy: 0.6562 - val_brier: 0.2243\n",
      "Epoch 9/200\n",
      "36/36 [==============================] - 0s 2ms/step - loss: 0.5572 - accuracy: 0.7309 - brier: 0.1847 - val_loss: 0.6581 - val_accuracy: 0.6576 - val_brier: 0.2248\n",
      "Epoch 10/200\n",
      "36/36 [==============================] - 0s 1ms/step - loss: 0.5489 - accuracy: 0.7457 - brier: 0.1812 - val_loss: 0.6492 - val_accuracy: 0.6628 - val_brier: 0.2208\n",
      "Epoch 11/200\n",
      "36/36 [==============================] - 0s 1ms/step - loss: 0.5411 - accuracy: 0.7526 - brier: 0.1775 - val_loss: 0.6516 - val_accuracy: 0.6536 - val_brier: 0.2230\n",
      "Epoch 12/200\n",
      "36/36 [==============================] - 0s 1ms/step - loss: 0.5327 - accuracy: 0.7578 - brier: 0.1741 - val_loss: 0.6485 - val_accuracy: 0.6576 - val_brier: 0.2221\n",
      "Epoch 13/200\n",
      "36/36 [==============================] - 0s 1ms/step - loss: 0.5251 - accuracy: 0.7630 - brier: 0.1707 - val_loss: 0.6402 - val_accuracy: 0.6797 - val_brier: 0.2186\n",
      "Epoch 14/200\n",
      "36/36 [==============================] - 0s 1ms/step - loss: 0.5187 - accuracy: 0.7700 - brier: 0.1681 - val_loss: 0.6458 - val_accuracy: 0.6458 - val_brier: 0.2222\n",
      "Epoch 15/200\n",
      "36/36 [==============================] - 0s 1ms/step - loss: 0.5112 - accuracy: 0.7734 - brier: 0.1644 - val_loss: 0.6341 - val_accuracy: 0.6836 - val_brier: 0.2169\n",
      "Epoch 16/200\n",
      "36/36 [==============================] - 0s 1ms/step - loss: 0.5044 - accuracy: 0.7830 - brier: 0.1618 - val_loss: 0.6270 - val_accuracy: 0.6940 - val_brier: 0.2140\n",
      "Epoch 17/200\n",
      "36/36 [==============================] - 0s 1ms/step - loss: 0.4996 - accuracy: 0.7856 - brier: 0.1595 - val_loss: 0.6208 - val_accuracy: 0.6979 - val_brier: 0.2114\n",
      "Epoch 18/200\n",
      "36/36 [==============================] - 0s 1ms/step - loss: 0.4939 - accuracy: 0.7891 - brier: 0.1567 - val_loss: 0.6217 - val_accuracy: 0.6966 - val_brier: 0.2126\n",
      "Epoch 19/200\n",
      "36/36 [==============================] - 0s 1ms/step - loss: 0.4879 - accuracy: 0.7951 - brier: 0.1543 - val_loss: 0.6214 - val_accuracy: 0.6849 - val_brier: 0.2130\n",
      "Epoch 20/200\n",
      "36/36 [==============================] - 0s 1ms/step - loss: 0.4837 - accuracy: 0.7995 - brier: 0.1523 - val_loss: 0.6158 - val_accuracy: 0.6927 - val_brier: 0.2107\n",
      "Epoch 21/200\n",
      "36/36 [==============================] - 0s 1ms/step - loss: 0.4796 - accuracy: 0.8012 - brier: 0.1508 - val_loss: 0.6131 - val_accuracy: 0.7005 - val_brier: 0.2099\n",
      "Epoch 22/200\n",
      "36/36 [==============================] - 0s 1ms/step - loss: 0.4758 - accuracy: 0.8056 - brier: 0.1488 - val_loss: 0.6157 - val_accuracy: 0.6797 - val_brier: 0.2117\n",
      "Epoch 23/200\n",
      "36/36 [==============================] - 0s 1ms/step - loss: 0.4716 - accuracy: 0.8056 - brier: 0.1471 - val_loss: 0.6050 - val_accuracy: 0.7005 - val_brier: 0.2069\n",
      "Epoch 24/200\n",
      "36/36 [==============================] - 0s 1ms/step - loss: 0.4686 - accuracy: 0.8168 - brier: 0.1453 - val_loss: 0.6105 - val_accuracy: 0.6810 - val_brier: 0.2100\n",
      "Epoch 25/200\n",
      "36/36 [==============================] - 0s 1ms/step - loss: 0.4654 - accuracy: 0.8177 - brier: 0.1441 - val_loss: 0.6068 - val_accuracy: 0.6836 - val_brier: 0.2086\n",
      "Epoch 26/200\n",
      "36/36 [==============================] - 0s 1ms/step - loss: 0.4632 - accuracy: 0.8220 - brier: 0.1430 - val_loss: 0.6057 - val_accuracy: 0.6849 - val_brier: 0.2084\n",
      "Epoch 27/200\n",
      "36/36 [==============================] - 0s 1ms/step - loss: 0.4605 - accuracy: 0.8090 - brier: 0.1424 - val_loss: 0.5939 - val_accuracy: 0.6979 - val_brier: 0.2031\n",
      "Epoch 28/200\n",
      "36/36 [==============================] - 0s 1ms/step - loss: 0.4579 - accuracy: 0.8212 - brier: 0.1406 - val_loss: 0.5978 - val_accuracy: 0.6927 - val_brier: 0.2054\n",
      "Epoch 29/200\n",
      "36/36 [==============================] - ETA: 0s - loss: 0.3219 - accuracy: 0.8750 - brier: 0.09 - 0s 1ms/step - loss: 0.4550 - accuracy: 0.8186 - brier: 0.1393 - val_loss: 0.5991 - val_accuracy: 0.6849 - val_brier: 0.2063\n",
      "Epoch 30/200\n",
      "36/36 [==============================] - 0s 2ms/step - loss: 0.4530 - accuracy: 0.8168 - brier: 0.1386 - val_loss: 0.5940 - val_accuracy: 0.6836 - val_brier: 0.2042\n",
      "Epoch 31/200\n",
      "36/36 [==============================] - 0s 1ms/step - loss: 0.4511 - accuracy: 0.8168 - brier: 0.1377 - val_loss: 0.5919 - val_accuracy: 0.6836 - val_brier: 0.2034\n",
      "Epoch 32/200\n",
      "36/36 [==============================] - 0s 2ms/step - loss: 0.4499 - accuracy: 0.8229 - brier: 0.1364 - val_loss: 0.5967 - val_accuracy: 0.6719 - val_brier: 0.2060\n",
      "Epoch 33/200\n",
      "36/36 [==============================] - 0s 1ms/step - loss: 0.4485 - accuracy: 0.8142 - brier: 0.1370 - val_loss: 0.5844 - val_accuracy: 0.6940 - val_brier: 0.2004\n",
      "Epoch 34/200\n",
      "36/36 [==============================] - 0s 1ms/step - loss: 0.4461 - accuracy: 0.8264 - brier: 0.1350 - val_loss: 0.5931 - val_accuracy: 0.6667 - val_brier: 0.2048\n",
      "Epoch 35/200\n",
      "36/36 [==============================] - 0s 1ms/step - loss: 0.4448 - accuracy: 0.8238 - brier: 0.1343 - val_loss: 0.5919 - val_accuracy: 0.6667 - val_brier: 0.2045\n",
      "Epoch 36/200\n",
      "36/36 [==============================] - 0s 2ms/step - loss: 0.4441 - accuracy: 0.8238 - brier: 0.1340 - val_loss: 0.5798 - val_accuracy: 0.6849 - val_brier: 0.1989\n",
      "Epoch 37/200\n",
      "36/36 [==============================] - 0s 1ms/step - loss: 0.4437 - accuracy: 0.8273 - brier: 0.1331 - val_loss: 0.5939 - val_accuracy: 0.6510 - val_brier: 0.2058\n",
      "Epoch 38/200\n",
      "36/36 [==============================] - 0s 1ms/step - loss: 0.4445 - accuracy: 0.8299 - brier: 0.1349 - val_loss: 0.5799 - val_accuracy: 0.6771 - val_brier: 0.1994\n",
      "Epoch 39/200\n",
      "36/36 [==============================] - 0s 1ms/step - loss: 0.4393 - accuracy: 0.8281 - brier: 0.1320 - val_loss: 0.5882 - val_accuracy: 0.6654 - val_brier: 0.2035\n",
      "Epoch 40/200\n",
      "36/36 [==============================] - 0s 2ms/step - loss: 0.4386 - accuracy: 0.8281 - brier: 0.1314 - val_loss: 0.5829 - val_accuracy: 0.6654 - val_brier: 0.2012\n",
      "Epoch 41/200\n",
      "36/36 [==============================] - 0s 2ms/step - loss: 0.4382 - accuracy: 0.8351 - brier: 0.1319 - val_loss: 0.5738 - val_accuracy: 0.6849 - val_brier: 0.1970\n",
      "Epoch 42/200\n",
      "36/36 [==============================] - 0s 2ms/step - loss: 0.4364 - accuracy: 0.8290 - brier: 0.1305 - val_loss: 0.5829 - val_accuracy: 0.6615 - val_brier: 0.2014\n",
      "Epoch 43/200\n",
      "36/36 [==============================] - 0s 2ms/step - loss: 0.4354 - accuracy: 0.8299 - brier: 0.1305 - val_loss: 0.5805 - val_accuracy: 0.6706 - val_brier: 0.2005\n",
      "Epoch 44/200\n",
      "36/36 [==============================] - 0s 1ms/step - loss: 0.4351 - accuracy: 0.8307 - brier: 0.1301 - val_loss: 0.5712 - val_accuracy: 0.6862 - val_brier: 0.1962\n",
      "Epoch 45/200\n",
      "36/36 [==============================] - 0s 1ms/step - loss: 0.4330 - accuracy: 0.8299 - brier: 0.1289 - val_loss: 0.5843 - val_accuracy: 0.6536 - val_brier: 0.2025\n",
      "Epoch 46/200\n",
      "36/36 [==============================] - 0s 2ms/step - loss: 0.4324 - accuracy: 0.8351 - brier: 0.1292 - val_loss: 0.5799 - val_accuracy: 0.6680 - val_brier: 0.2006\n"
     ]
    },
    {
     "name": "stdout",
     "output_type": "stream",
     "text": [
      "Epoch 47/200\n",
      "36/36 [==============================] - 0s 1ms/step - loss: 0.4330 - accuracy: 0.8325 - brier: 0.1289 - val_loss: 0.5874 - val_accuracy: 0.6484 - val_brier: 0.2041\n",
      "Epoch 48/200\n",
      "36/36 [==============================] - 0s 1ms/step - loss: 0.4316 - accuracy: 0.8333 - brier: 0.1286 - val_loss: 0.5739 - val_accuracy: 0.6797 - val_brier: 0.1980\n",
      "Epoch 49/200\n",
      "36/36 [==============================] - 0s 2ms/step - loss: 0.4310 - accuracy: 0.8368 - brier: 0.1284 - val_loss: 0.5717 - val_accuracy: 0.6797 - val_brier: 0.1971\n",
      "Epoch 50/200\n",
      "36/36 [==============================] - 0s 1ms/step - loss: 0.4297 - accuracy: 0.8325 - brier: 0.1277 - val_loss: 0.5718 - val_accuracy: 0.6771 - val_brier: 0.1973\n",
      "Epoch 51/200\n",
      "36/36 [==============================] - 0s 1ms/step - loss: 0.4291 - accuracy: 0.8368 - brier: 0.1275 - val_loss: 0.5712 - val_accuracy: 0.6771 - val_brier: 0.1970\n",
      "Epoch 52/200\n",
      "36/36 [==============================] - 0s 1ms/step - loss: 0.4290 - accuracy: 0.8351 - brier: 0.1277 - val_loss: 0.5844 - val_accuracy: 0.6497 - val_brier: 0.2031\n",
      "Epoch 53/200\n",
      "36/36 [==============================] - 0s 1ms/step - loss: 0.4272 - accuracy: 0.8385 - brier: 0.1269 - val_loss: 0.5724 - val_accuracy: 0.6719 - val_brier: 0.1978\n",
      "Epoch 54/200\n",
      "36/36 [==============================] - 0s 2ms/step - loss: 0.4283 - accuracy: 0.8394 - brier: 0.1271 - val_loss: 0.5671 - val_accuracy: 0.6875 - val_brier: 0.1954\n",
      "Epoch 55/200\n",
      "36/36 [==============================] - 0s 1ms/step - loss: 0.4272 - accuracy: 0.8359 - brier: 0.1262 - val_loss: 0.5840 - val_accuracy: 0.6510 - val_brier: 0.2030\n",
      "Epoch 56/200\n",
      "36/36 [==============================] - 0s 1ms/step - loss: 0.4262 - accuracy: 0.8377 - brier: 0.1264 - val_loss: 0.5765 - val_accuracy: 0.6615 - val_brier: 0.1998\n",
      "Epoch 57/200\n",
      "36/36 [==============================] - 0s 1ms/step - loss: 0.4258 - accuracy: 0.8394 - brier: 0.1261 - val_loss: 0.5799 - val_accuracy: 0.6549 - val_brier: 0.2014\n",
      "Epoch 58/200\n",
      "36/36 [==============================] - 0s 1ms/step - loss: 0.4252 - accuracy: 0.8385 - brier: 0.1259 - val_loss: 0.5789 - val_accuracy: 0.6536 - val_brier: 0.2009\n",
      "Epoch 59/200\n",
      "36/36 [==============================] - 0s 2ms/step - loss: 0.4246 - accuracy: 0.8385 - brier: 0.1259 - val_loss: 0.5766 - val_accuracy: 0.6615 - val_brier: 0.2000\n",
      "Epoch 60/200\n",
      "36/36 [==============================] - 0s 1ms/step - loss: 0.4240 - accuracy: 0.8377 - brier: 0.1252 - val_loss: 0.5794 - val_accuracy: 0.6576 - val_brier: 0.2012\n",
      "Epoch 61/200\n",
      "36/36 [==============================] - 0s 1ms/step - loss: 0.4234 - accuracy: 0.8385 - brier: 0.1254 - val_loss: 0.5730 - val_accuracy: 0.6667 - val_brier: 0.1984\n",
      "Restoring model weights from the end of the best epoch.\n",
      "Epoch 00061: early stopping\n"
     ]
    },
    {
     "data": {
      "text/plain": [
       "<tensorflow.python.keras.callbacks.History at 0x7f212bcaad90>"
      ]
     },
     "execution_count": 43,
     "metadata": {},
     "output_type": "execute_result"
    }
   ],
   "source": [
    "# Training the model\n",
    "model = constructor.fresh_model()\n",
    "model.fit(x = [feature_input, raw_predictions], y=obs_input, validation_split = 0.4, **fit_kwargs)"
   ]
  },
  {
   "cell_type": "code",
   "execution_count": 44,
   "metadata": {},
   "outputs": [
    {
     "name": "stdout",
     "output_type": "stream",
     "text": [
      "using a pre-fitted feature scaler\n"
     ]
    }
   ],
   "source": [
    "# Test the predictions\n",
    "test_features, _ = scale_other_features(X_test, fitted_scaler=feature_scaler)\n",
    "test_forcs = multiclass_log_forecastprob(forc_test)\n",
    "test_preds = model.predict(x = [test_features, test_forcs])"
   ]
  },
  {
   "cell_type": "code",
   "execution_count": 45,
   "metadata": {},
   "outputs": [
    {
     "name": "stdout",
     "output_type": "stream",
     "text": [
      "11/11 [==============================] - 0s 772us/step - loss: 0.5498 - accuracy: 0.7386 - brier: 0.1804\n"
     ]
    },
    {
     "data": {
      "text/plain": [
       "[0.5498146414756775, 0.7386363744735718, 0.18036562204360962]"
      ]
     },
     "execution_count": 45,
     "metadata": {},
     "output_type": "execute_result"
    }
   ],
   "source": [
    "model.evaluate(x = [test_features, test_forcs], y = obs_test.values)"
   ]
  },
  {
   "cell_type": "code",
   "execution_count": 46,
   "metadata": {},
   "outputs": [
    {
     "data": {
      "text/plain": [
       "0.23460872275046382"
      ]
     },
     "execution_count": 46,
     "metadata": {},
     "output_type": "execute_result"
    }
   ],
   "source": [
    "np.mean((obs_test.iloc[:,focus_class] - forc_test.iloc[:,focus_class])**2)"
   ]
  },
  {
   "cell_type": "code",
   "execution_count": 47,
   "metadata": {},
   "outputs": [
    {
     "name": "stdout",
     "output_type": "stream",
     "text": [
      "fitting a new time scaler\n"
     ]
    }
   ],
   "source": [
    "# Training a trend benchmark model\n",
    "time_input, time_scaler, lr = singleclass_regression(obs_trainval.iloc[:,focus_class], regressor = LogisticRegression)\n",
    "time_test = time_scaler.transform(obs_test.index.get_level_values('time').to_julian_date().values[:,np.newaxis])\n",
    "trend_benchmark = lr.predict(time_test)"
   ]
  },
  {
   "cell_type": "code",
   "execution_count": 48,
   "metadata": {},
   "outputs": [],
   "source": [
    "complete_test = pd.DataFrame({'raw':forc_test.iloc[:,focus_class], 'pp':test_preds[:,focus_class], 'trend': trend_benchmark}, index = forc_test.index)\n",
    "complete_test.columns.name = 'type'"
   ]
  },
  {
   "cell_type": "code",
   "execution_count": 52,
   "metadata": {},
   "outputs": [
    {
     "data": {
      "image/png": "[encoded data removed]",
      "text/plain": [
       "<Figure size 504x504 with 2 Axes>"
      ]
     },
     "metadata": {
      "needs_background": "light"
     },
     "output_type": "display_data"
    }
   ],
   "source": [
    "fig, (axrel, axhist) = reliability_plot(y_true = obs_test.iloc[:,focus_class], y_probs=complete_test)\n",
    "axrel.set_title('tganom31 q0.75 multipass predictors, tgex >7d forecast')\n",
    "plt.show()"
   ]
  },
  {
   "cell_type": "code",
   "execution_count": 34,
   "metadata": {},
   "outputs": [
    {
     "data": {
      "text/plain": [
       "(<Figure size 504x504 with 2 Axes>,\n",
       " [<AxesSubplot:ylabel='conditional observed frequency'>,\n",
       "  <AxesSubplot:xlabel='mean predicted probability', ylabel='counts'>])"
      ]
     },
     "execution_count": 34,
     "metadata": {},
     "output_type": "execute_result"
    },
    {
     "data": {
      "image/png": "[encoded data removed]",
      "text/plain": [
       "<Figure size 504x504 with 2 Axes>"
      ]
     },
     "metadata": {
      "needs_background": "light"
     },
     "output_type": "display_data"
    }
   ],
   "source": [
    "reliability_plot(y_true = obs_test.iloc[:,focus_class], y_probs=complete_test)"
   ]
  },
  {
   "cell_type": "code",
   "execution_count": 36,
   "metadata": {},
   "outputs": [],
   "source": [
    "complete_train = pd.DataFrame({'raw':forc_trainval.iloc[:,focus_class], 'pp':model.predict(x = [feature_input, raw_predictions])[:,focus_class], 'trend': lr.predict(time_input)}, index = forc_trainval.index)\n",
    "complete_train.columns.name = 'type'"
   ]
  },
  {
   "cell_type": "code",
   "execution_count": 38,
   "metadata": {},
   "outputs": [
    {
     "data": {
      "text/plain": [
       "(<Figure size 504x504 with 2 Axes>,\n",
       " [<AxesSubplot:ylabel='conditional observed frequency'>,\n",
       "  <AxesSubplot:xlabel='mean predicted probability', ylabel='counts'>])"
      ]
     },
     "execution_count": 38,
     "metadata": {},
     "output_type": "execute_result"
    },
    {
     "data": {
      "image/png": "[encoded data removed]",
      "text/plain": [
       "<Figure size 504x504 with 2 Axes>"
      ]
     },
     "metadata": {
      "needs_background": "light"
     },
     "output_type": "display_data"
    }
   ],
   "source": [
    "reliability_plot(y_true = obs_trainval.iloc[:,focus_class], y_probs =complete_train)"
   ]
  },
  {
   "cell_type": "code",
   "execution_count": null,
   "metadata": {},
   "outputs": [],
   "source": []
  }
 ],
 "metadata": {
  "kernelspec": {
   "display_name": "DLVENV",
   "language": "python",
   "name": "dlvenv"
  },
  "language_info": {
   "codemirror_mode": {
    "name": "ipython",
    "version": 3
   },
   "file_extension": ".py",
   "mimetype": "text/x-python",
   "name": "python",
   "nbconvert_exporter": "python",
   "pygments_lexer": "ipython3",
   "version": "3.9.7"
  }
 },
 "nbformat": 4,
 "nbformat_minor": 4
}
